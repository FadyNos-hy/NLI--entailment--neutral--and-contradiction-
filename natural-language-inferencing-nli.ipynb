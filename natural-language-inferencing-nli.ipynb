{
 "cells": [
  {
   "cell_type": "markdown",
   "id": "2e178548",
   "metadata": {
    "_cell_guid": "5c1b75ee-94f3-40c8-adbe-4ca8325b9f9c",
    "_uuid": "7edff2eb-50cb-4285-8255-b3262dbd5161",
    "papermill": {
     "duration": 0.00891,
     "end_time": "2023-03-18T22:17:11.577911",
     "exception": false,
     "start_time": "2023-03-18T22:17:11.569001",
     "status": "completed"
    },
    "tags": []
   },
   "source": [
    "Natural Language Inferencing (NLI) is a classic NLP (Natural Language Processing) problem that involves taking two sentences (the _premise_ and the _hypothesis_ ), and deciding how they are related- if the premise entails the hypothesis, contradicts it, or neither.\n",
    "\n",
    "In this tutorial we'll look at the _Contradictory, My Dear Watson_ competition dataset, build a preliminary model using Tensorflow 2, Keras, and BERT, and prepare a submission file."
   ]
  },
  {
   "cell_type": "code",
   "execution_count": 1,
   "id": "69dbb1b1",
   "metadata": {
    "execution": {
     "iopub.execute_input": "2023-03-18T22:17:11.595110Z",
     "iopub.status.busy": "2023-03-18T22:17:11.594661Z",
     "iopub.status.idle": "2023-03-18T22:17:25.359936Z",
     "shell.execute_reply": "2023-03-18T22:17:25.358938Z"
    },
    "papermill": {
     "duration": 13.776904,
     "end_time": "2023-03-18T22:17:25.362744",
     "exception": false,
     "start_time": "2023-03-18T22:17:11.585840",
     "status": "completed"
    },
    "tags": []
   },
   "outputs": [],
   "source": [
    "from transformers import BertTokenizer,TFBertModel\n",
    "import matplotlib.pyplot as plt\n",
    "import tensorflow as tf"
   ]
  },
  {
   "cell_type": "code",
   "execution_count": 2,
   "id": "681127a7",
   "metadata": {
    "_cell_guid": "20666a1f-e31b-4134-94f8-fea9a50998d3",
    "_uuid": "d3a20929-8e1d-48d2-869c-cc57f8c63cc9",
    "execution": {
     "iopub.execute_input": "2023-03-18T22:17:25.381330Z",
     "iopub.status.busy": "2023-03-18T22:17:25.379698Z",
     "iopub.status.idle": "2023-03-18T22:17:25.390402Z",
     "shell.execute_reply": "2023-03-18T22:17:25.388987Z"
    },
    "papermill": {
     "duration": 0.022476,
     "end_time": "2023-03-18T22:17:25.393296",
     "exception": false,
     "start_time": "2023-03-18T22:17:25.370820",
     "status": "completed"
    },
    "tags": []
   },
   "outputs": [
    {
     "name": "stdout",
     "output_type": "stream",
     "text": [
      "/kaggle/input/contradictory-my-dear-watson/sample_submission.csv\n",
      "/kaggle/input/contradictory-my-dear-watson/train.csv\n",
      "/kaggle/input/contradictory-my-dear-watson/test.csv\n"
     ]
    }
   ],
   "source": [
    "# This Python 3 environment comes with many helpful analytics libraries installed\n",
    "# It is defined by the kaggle/python Docker image: https://github.com/kaggle/docker-python\n",
    "# For example, here's several helpful packages to load\n",
    "\n",
    "import numpy as np # linear algebra\n",
    "import pandas as pd # data processing, CSV file I/O (e.g. pd.read_csv)\n",
    "\n",
    "\n",
    "\n",
    "# For example, running this (by clicking run or pressing Shift+Enter) will list all files under the input directory\n",
    "\n",
    "import os\n",
    "for dirname, _, filenames in os.walk('/kaggle/input'):\n",
    "    for filename in filenames:\n",
    "        print(os.path.join(dirname, filename))\n",
    "\n",
    "# You can write up to 5GB to the current directory (/kaggle/working/) that gets preserved as output when you create a version using \"Save & Run All\" \n",
    "# You can also write temporary files to /kaggle/temp/, but they won't be saved outside of the current session"
   ]
  },
  {
   "cell_type": "code",
   "execution_count": 3,
   "id": "cdaed9dd",
   "metadata": {
    "execution": {
     "iopub.execute_input": "2023-03-18T22:17:25.410857Z",
     "iopub.status.busy": "2023-03-18T22:17:25.409997Z",
     "iopub.status.idle": "2023-03-18T22:17:25.415857Z",
     "shell.execute_reply": "2023-03-18T22:17:25.414684Z"
    },
    "papermill": {
     "duration": 0.016309,
     "end_time": "2023-03-18T22:17:25.417831",
     "exception": false,
     "start_time": "2023-03-18T22:17:25.401522",
     "status": "completed"
    },
    "tags": []
   },
   "outputs": [],
   "source": [
    "os.environ[\"WANDB_API_KEY\"] = \"0\" ## to silence warning"
   ]
  },
  {
   "cell_type": "markdown",
   "id": "a6a79034",
   "metadata": {
    "_cell_guid": "6c5122f9-8c39-4892-81a9-1f8830b64484",
    "_uuid": "58fb9ec5-c099-494c-bf59-6ec9d6e64628",
    "papermill": {
     "duration": 0.007526,
     "end_time": "2023-03-18T22:17:25.434345",
     "exception": false,
     "start_time": "2023-03-18T22:17:25.426819",
     "status": "completed"
    },
    "tags": []
   },
   "source": [
    "Let's set up our TPU."
   ]
  },
  {
   "cell_type": "code",
   "execution_count": 4,
   "id": "d9f94634",
   "metadata": {
    "_cell_guid": "ca2729e3-9275-4a9c-b150-592320bd3e54",
    "_uuid": "386d0823-63ab-4765-9561-32c5f382e71d",
    "execution": {
     "iopub.execute_input": "2023-03-18T22:17:25.452128Z",
     "iopub.status.busy": "2023-03-18T22:17:25.450444Z",
     "iopub.status.idle": "2023-03-18T22:17:25.457077Z",
     "shell.execute_reply": "2023-03-18T22:17:25.456172Z"
    },
    "papermill": {
     "duration": 0.017723,
     "end_time": "2023-03-18T22:17:25.459689",
     "exception": false,
     "start_time": "2023-03-18T22:17:25.441966",
     "status": "completed"
    },
    "tags": []
   },
   "outputs": [
    {
     "name": "stdout",
     "output_type": "stream",
     "text": [
      "Number of replicas: 1\n"
     ]
    }
   ],
   "source": [
    "try:\n",
    "    tpu = tf.distribute.cluster_resolver.TPUClusterResolver()\n",
    "    tf.config.experimental_connect_to_cluster(tpu)\n",
    "    tf.tpu.experimental.initialize_tpu_system(tpu)\n",
    "    strategy = tf.distribute.experimental.TPUStrategy(tpu)\n",
    "except ValueError:\n",
    "    strategy = tf.distribute.get_strategy() # for CPU and single GPU\n",
    "    print('Number of replicas:', strategy.num_replicas_in_sync)"
   ]
  },
  {
   "cell_type": "markdown",
   "id": "2473fa20",
   "metadata": {
    "_cell_guid": "44a1d22f-053c-4188-b25f-d714aa745016",
    "_uuid": "0b64130f-530a-4560-8afd-462a55fc14b3",
    "papermill": {
     "duration": 0.00789,
     "end_time": "2023-03-18T22:17:25.476258",
     "exception": false,
     "start_time": "2023-03-18T22:17:25.468368",
     "status": "completed"
    },
    "tags": []
   },
   "source": [
    "## Downloading Data"
   ]
  },
  {
   "cell_type": "markdown",
   "id": "c14a84cb",
   "metadata": {
    "_cell_guid": "6fb2939c-b14a-450f-85dd-7220439eaf55",
    "_uuid": "b9285071-38f2-421b-9b1c-9c44d41c7365",
    "papermill": {
     "duration": 0.007423,
     "end_time": "2023-03-18T22:17:25.491612",
     "exception": false,
     "start_time": "2023-03-18T22:17:25.484189",
     "status": "completed"
    },
    "tags": []
   },
   "source": [
    "The training set contains a premise, a hypothesis, a label (0 = entailment, 1 = neutral, 2 = contradiction), and the language of the text. For more information about what these mean and how the data is structured, check out the data page: https://www.kaggle.com/c/contradictory-my-dear-watson/data"
   ]
  },
  {
   "cell_type": "code",
   "execution_count": 5,
   "id": "193c41da",
   "metadata": {
    "_cell_guid": "f3ad567b-a156-4ffc-a6f8-1f5e6e989a4e",
    "_uuid": "6e60d19f-aeae-417a-a10a-50cc1d5ee685",
    "execution": {
     "iopub.execute_input": "2023-03-18T22:17:25.508538Z",
     "iopub.status.busy": "2023-03-18T22:17:25.507800Z",
     "iopub.status.idle": "2023-03-18T22:17:25.612520Z",
     "shell.execute_reply": "2023-03-18T22:17:25.611503Z"
    },
    "papermill": {
     "duration": 0.115522,
     "end_time": "2023-03-18T22:17:25.614887",
     "exception": false,
     "start_time": "2023-03-18T22:17:25.499365",
     "status": "completed"
    },
    "tags": []
   },
   "outputs": [],
   "source": [
    "train = pd.read_csv(\"../input/contradictory-my-dear-watson/train.csv\")"
   ]
  },
  {
   "cell_type": "markdown",
   "id": "9b235893",
   "metadata": {
    "papermill": {
     "duration": 0.00738,
     "end_time": "2023-03-18T22:17:25.630626",
     "exception": false,
     "start_time": "2023-03-18T22:17:25.623246",
     "status": "completed"
    },
    "tags": []
   },
   "source": [
    "We can use the pandas head() function to take a quick look at the training set."
   ]
  },
  {
   "cell_type": "code",
   "execution_count": 6,
   "id": "3bfd56dc",
   "metadata": {
    "_cell_guid": "d3b9a632-7abb-4bef-acd3-9cba577dc2c0",
    "_uuid": "82e6d183-b8e1-412b-816f-c9020bac1428",
    "execution": {
     "iopub.execute_input": "2023-03-18T22:17:25.648409Z",
     "iopub.status.busy": "2023-03-18T22:17:25.646976Z",
     "iopub.status.idle": "2023-03-18T22:17:25.666745Z",
     "shell.execute_reply": "2023-03-18T22:17:25.665732Z"
    },
    "papermill": {
     "duration": 0.030804,
     "end_time": "2023-03-18T22:17:25.669249",
     "exception": false,
     "start_time": "2023-03-18T22:17:25.638445",
     "status": "completed"
    },
    "tags": []
   },
   "outputs": [
    {
     "data": {
      "text/html": [
       "<div>\n",
       "<style scoped>\n",
       "    .dataframe tbody tr th:only-of-type {\n",
       "        vertical-align: middle;\n",
       "    }\n",
       "\n",
       "    .dataframe tbody tr th {\n",
       "        vertical-align: top;\n",
       "    }\n",
       "\n",
       "    .dataframe thead th {\n",
       "        text-align: right;\n",
       "    }\n",
       "</style>\n",
       "<table border=\"1\" class=\"dataframe\">\n",
       "  <thead>\n",
       "    <tr style=\"text-align: right;\">\n",
       "      <th></th>\n",
       "      <th>id</th>\n",
       "      <th>premise</th>\n",
       "      <th>hypothesis</th>\n",
       "      <th>lang_abv</th>\n",
       "      <th>language</th>\n",
       "      <th>label</th>\n",
       "    </tr>\n",
       "  </thead>\n",
       "  <tbody>\n",
       "    <tr>\n",
       "      <th>0</th>\n",
       "      <td>5130fd2cb5</td>\n",
       "      <td>and these comments were considered in formulat...</td>\n",
       "      <td>The rules developed in the interim were put to...</td>\n",
       "      <td>en</td>\n",
       "      <td>English</td>\n",
       "      <td>0</td>\n",
       "    </tr>\n",
       "    <tr>\n",
       "      <th>1</th>\n",
       "      <td>5b72532a0b</td>\n",
       "      <td>These are issues that we wrestle with in pract...</td>\n",
       "      <td>Practice groups are not permitted to work on t...</td>\n",
       "      <td>en</td>\n",
       "      <td>English</td>\n",
       "      <td>2</td>\n",
       "    </tr>\n",
       "    <tr>\n",
       "      <th>2</th>\n",
       "      <td>3931fbe82a</td>\n",
       "      <td>Des petites choses comme celles-là font une di...</td>\n",
       "      <td>J'essayais d'accomplir quelque chose.</td>\n",
       "      <td>fr</td>\n",
       "      <td>French</td>\n",
       "      <td>0</td>\n",
       "    </tr>\n",
       "    <tr>\n",
       "      <th>3</th>\n",
       "      <td>5622f0c60b</td>\n",
       "      <td>you know they can't really defend themselves l...</td>\n",
       "      <td>They can't defend themselves because of their ...</td>\n",
       "      <td>en</td>\n",
       "      <td>English</td>\n",
       "      <td>0</td>\n",
       "    </tr>\n",
       "    <tr>\n",
       "      <th>4</th>\n",
       "      <td>86aaa48b45</td>\n",
       "      <td>ในการเล่นบทบาทสมมุติก็เช่นกัน โอกาสที่จะได้แสด...</td>\n",
       "      <td>เด็กสามารถเห็นได้ว่าชาติพันธุ์แตกต่างกันอย่างไร</td>\n",
       "      <td>th</td>\n",
       "      <td>Thai</td>\n",
       "      <td>1</td>\n",
       "    </tr>\n",
       "  </tbody>\n",
       "</table>\n",
       "</div>"
      ],
      "text/plain": [
       "           id                                            premise  \\\n",
       "0  5130fd2cb5  and these comments were considered in formulat...   \n",
       "1  5b72532a0b  These are issues that we wrestle with in pract...   \n",
       "2  3931fbe82a  Des petites choses comme celles-là font une di...   \n",
       "3  5622f0c60b  you know they can't really defend themselves l...   \n",
       "4  86aaa48b45  ในการเล่นบทบาทสมมุติก็เช่นกัน โอกาสที่จะได้แสด...   \n",
       "\n",
       "                                          hypothesis lang_abv language  label  \n",
       "0  The rules developed in the interim were put to...       en  English      0  \n",
       "1  Practice groups are not permitted to work on t...       en  English      2  \n",
       "2              J'essayais d'accomplir quelque chose.       fr   French      0  \n",
       "3  They can't defend themselves because of their ...       en  English      0  \n",
       "4    เด็กสามารถเห็นได้ว่าชาติพันธุ์แตกต่างกันอย่างไร       th     Thai      1  "
      ]
     },
     "execution_count": 6,
     "metadata": {},
     "output_type": "execute_result"
    }
   ],
   "source": [
    "train.head()"
   ]
  },
  {
   "cell_type": "markdown",
   "id": "5d6e7bc7",
   "metadata": {
    "_cell_guid": "817c2470-9778-46e8-be86-fdd1b9449b93",
    "_uuid": "abfb11e9-865c-4b50-b0cc-9d25851618ff",
    "papermill": {
     "duration": 0.007977,
     "end_time": "2023-03-18T22:17:25.685270",
     "exception": false,
     "start_time": "2023-03-18T22:17:25.677293",
     "status": "completed"
    },
    "tags": []
   },
   "source": [
    "Let's look at one of the pairs of sentences."
   ]
  },
  {
   "cell_type": "code",
   "execution_count": 7,
   "id": "1ce26d47",
   "metadata": {
    "_cell_guid": "bcca3548-bb15-4868-86ec-95fe084d6e06",
    "_uuid": "dea716f0-9698-4a10-a7f1-1a0bb36054db",
    "execution": {
     "iopub.execute_input": "2023-03-18T22:17:25.702665Z",
     "iopub.status.busy": "2023-03-18T22:17:25.702360Z",
     "iopub.status.idle": "2023-03-18T22:17:25.710343Z",
     "shell.execute_reply": "2023-03-18T22:17:25.709453Z"
    },
    "papermill": {
     "duration": 0.019054,
     "end_time": "2023-03-18T22:17:25.712474",
     "exception": false,
     "start_time": "2023-03-18T22:17:25.693420",
     "status": "completed"
    },
    "tags": []
   },
   "outputs": [
    {
     "data": {
      "text/plain": [
       "'These are issues that we wrestle with in practice groups of law firms, she said. '"
      ]
     },
     "execution_count": 7,
     "metadata": {},
     "output_type": "execute_result"
    }
   ],
   "source": [
    "train.premise.values[1]"
   ]
  },
  {
   "cell_type": "code",
   "execution_count": 8,
   "id": "cc2315e9",
   "metadata": {
    "_cell_guid": "15dcbe6c-4914-4400-a8fd-65b6e4cbf652",
    "_uuid": "5b639eff-aeea-4dca-b516-7e729cdeb741",
    "execution": {
     "iopub.execute_input": "2023-03-18T22:17:25.731090Z",
     "iopub.status.busy": "2023-03-18T22:17:25.729597Z",
     "iopub.status.idle": "2023-03-18T22:17:25.736157Z",
     "shell.execute_reply": "2023-03-18T22:17:25.735283Z"
    },
    "papermill": {
     "duration": 0.017524,
     "end_time": "2023-03-18T22:17:25.738132",
     "exception": false,
     "start_time": "2023-03-18T22:17:25.720608",
     "status": "completed"
    },
    "tags": []
   },
   "outputs": [
    {
     "data": {
      "text/plain": [
       "'Practice groups are not permitted to work on these issues.'"
      ]
     },
     "execution_count": 8,
     "metadata": {},
     "output_type": "execute_result"
    }
   ],
   "source": [
    "train.hypothesis.values[1]"
   ]
  },
  {
   "cell_type": "code",
   "execution_count": 9,
   "id": "903add61",
   "metadata": {
    "_cell_guid": "e16e8879-c565-4a29-bacc-26648659da29",
    "_uuid": "c63a91e0-05f7-4a67-acf8-2131ef50f054",
    "execution": {
     "iopub.execute_input": "2023-03-18T22:17:25.756277Z",
     "iopub.status.busy": "2023-03-18T22:17:25.755494Z",
     "iopub.status.idle": "2023-03-18T22:17:25.761848Z",
     "shell.execute_reply": "2023-03-18T22:17:25.760813Z"
    },
    "papermill": {
     "duration": 0.017495,
     "end_time": "2023-03-18T22:17:25.763913",
     "exception": false,
     "start_time": "2023-03-18T22:17:25.746418",
     "status": "completed"
    },
    "tags": []
   },
   "outputs": [
    {
     "data": {
      "text/plain": [
       "2"
      ]
     },
     "execution_count": 9,
     "metadata": {},
     "output_type": "execute_result"
    }
   ],
   "source": [
    "train.label.values[1]"
   ]
  },
  {
   "cell_type": "markdown",
   "id": "6ca62d1d",
   "metadata": {
    "_cell_guid": "8c9122ea-797d-48f1-b4ba-85bc2e0e6f18",
    "_uuid": "216dc9c2-1699-4b89-af27-443d1b4c7289",
    "papermill": {
     "duration": 0.007906,
     "end_time": "2023-03-18T22:17:25.780107",
     "exception": false,
     "start_time": "2023-03-18T22:17:25.772201",
     "status": "completed"
    },
    "tags": []
   },
   "source": [
    "These statements are contradictory, and the label shows that.\n",
    "\n",
    "Let's look at the distribution of languages in the training set."
   ]
  },
  {
   "cell_type": "code",
   "execution_count": 10,
   "id": "2fe375b8",
   "metadata": {
    "_cell_guid": "7d9b43ef-4ac1-40d5-aebc-a162f1b9a6c0",
    "_uuid": "7243f511-d81e-436c-971f-6328b7c0cf43",
    "execution": {
     "iopub.execute_input": "2023-03-18T22:17:25.798106Z",
     "iopub.status.busy": "2023-03-18T22:17:25.797849Z",
     "iopub.status.idle": "2023-03-18T22:17:26.081607Z",
     "shell.execute_reply": "2023-03-18T22:17:26.080366Z"
    },
    "papermill": {
     "duration": 0.295792,
     "end_time": "2023-03-18T22:17:26.084185",
     "exception": false,
     "start_time": "2023-03-18T22:17:25.788393",
     "status": "completed"
    },
    "tags": []
   },
   "outputs": [
    {
     "data": {
      "image/png": "[encoded data removed]",
      "text/plain": [
       "<Figure size 720x720 with 1 Axes>"
      ]
     },
     "metadata": {},
     "output_type": "display_data"
    }
   ],
   "source": [
    "labels, frequencies = np.unique(train.language.values, return_counts = True)\n",
    "\n",
    "plt.figure(figsize = (10,10))\n",
    "plt.pie(frequencies,labels = labels, autopct = '%1.1f%%')\n",
    "plt.show()"
   ]
  },
  {
   "cell_type": "markdown",
   "id": "42391082",
   "metadata": {
    "_cell_guid": "a7f5d429-083e-4d81-883f-e032dfb0e236",
    "_uuid": "68cee874-838e-4f0e-9f80-bfebc4a295d0",
    "papermill": {
     "duration": 0.008864,
     "end_time": "2023-03-18T22:17:26.102510",
     "exception": false,
     "start_time": "2023-03-18T22:17:26.093646",
     "status": "completed"
    },
    "tags": []
   },
   "source": [
    "## Preparing Data for Input"
   ]
  },
  {
   "cell_type": "markdown",
   "id": "fe73924d",
   "metadata": {
    "_cell_guid": "f20a33db-a377-43b6-825e-157456ed1092",
    "_uuid": "27e66828-76b9-44f4-ba79-66fe0cb8f922",
    "papermill": {
     "duration": 0.009077,
     "end_time": "2023-03-18T22:17:26.120471",
     "exception": false,
     "start_time": "2023-03-18T22:17:26.111394",
     "status": "completed"
    },
    "tags": []
   },
   "source": [
    "To start out, we can use a pretrained model. Here, we'll use a multilingual BERT model from huggingface. For more information about BERT, see: https://github.com/google-research/bert/blob/master/multilingual.md\n",
    "\n",
    "First, we download the tokenizer."
   ]
  },
  {
   "cell_type": "code",
   "execution_count": 11,
   "id": "88fbf804",
   "metadata": {
    "_cell_guid": "ddc3e65e-24a4-43dc-98f0-194655d17cfd",
    "_uuid": "0af7b876-e719-474a-b6a5-fef500624b83",
    "execution": {
     "iopub.execute_input": "2023-03-18T22:17:26.139989Z",
     "iopub.status.busy": "2023-03-18T22:17:26.139715Z",
     "iopub.status.idle": "2023-03-18T22:17:28.998828Z",
     "shell.execute_reply": "2023-03-18T22:17:28.997657Z"
    },
    "papermill": {
     "duration": 2.8717,
     "end_time": "2023-03-18T22:17:29.001284",
     "exception": false,
     "start_time": "2023-03-18T22:17:26.129584",
     "status": "completed"
    },
    "tags": []
   },
   "outputs": [
    {
     "data": {
      "application/vnd.jupyter.widget-view+json": {
       "model_id": "c2ad9163a87345afa5374ef25c9d855e",
       "version_major": 2,
       "version_minor": 0
      },
      "text/plain": [
       "Downloading:   0%|          | 0.00/972k [00:00<?, ?B/s]"
      ]
     },
     "metadata": {},
     "output_type": "display_data"
    },
    {
     "data": {
      "application/vnd.jupyter.widget-view+json": {
       "model_id": "5c3804e16ca349b68e61d9420dfb4451",
       "version_major": 2,
       "version_minor": 0
      },
      "text/plain": [
       "Downloading:   0%|          | 0.00/29.0 [00:00<?, ?B/s]"
      ]
     },
     "metadata": {},
     "output_type": "display_data"
    },
    {
     "data": {
      "application/vnd.jupyter.widget-view+json": {
       "model_id": "fb0bae798cba42098b51275164ead068",
       "version_major": 2,
       "version_minor": 0
      },
      "text/plain": [
       "Downloading:   0%|          | 0.00/625 [00:00<?, ?B/s]"
      ]
     },
     "metadata": {},
     "output_type": "display_data"
    }
   ],
   "source": [
    "model_name = 'bert-base-multilingual-cased'\n",
    "max_length =234\n",
    "dropout=0.3\n",
    "tokenizer = BertTokenizer.from_pretrained(model_name)"
   ]
  },
  {
   "cell_type": "markdown",
   "id": "08d254b5",
   "metadata": {
    "_cell_guid": "f6f4ab91-c9b5-4861-a400-89969200b7f4",
    "_uuid": "a6088f3d-8778-4a6c-82b0-db6a5461ec95",
    "papermill": {
     "duration": 0.009517,
     "end_time": "2023-03-18T22:17:29.021290",
     "exception": false,
     "start_time": "2023-03-18T22:17:29.011773",
     "status": "completed"
    },
    "tags": []
   },
   "source": [
    "Tokenizers turn sequences of words into arrays of numbers. Let's look at an example:"
   ]
  },
  {
   "cell_type": "code",
   "execution_count": 12,
   "id": "e5052cfc",
   "metadata": {
    "execution": {
     "iopub.execute_input": "2023-03-18T22:17:29.041436Z",
     "iopub.status.busy": "2023-03-18T22:17:29.041102Z",
     "iopub.status.idle": "2023-03-18T22:17:29.045949Z",
     "shell.execute_reply": "2023-03-18T22:17:29.044977Z"
    },
    "papermill": {
     "duration": 0.017144,
     "end_time": "2023-03-18T22:17:29.047996",
     "exception": false,
     "start_time": "2023-03-18T22:17:29.030852",
     "status": "completed"
    },
    "tags": []
   },
   "outputs": [],
   "source": [
    "def encode_sentence(s):\n",
    "    tokens = list(tokenizer.tokenize(s))\n",
    "    tokens.append('[SEP]')\n",
    "    return tokenizer.convert_tokens_to_ids(tokens)"
   ]
  },
  {
   "cell_type": "code",
   "execution_count": 13,
   "id": "d8d2f7fb",
   "metadata": {
    "execution": {
     "iopub.execute_input": "2023-03-18T22:17:29.067689Z",
     "iopub.status.busy": "2023-03-18T22:17:29.067418Z",
     "iopub.status.idle": "2023-03-18T22:17:29.075051Z",
     "shell.execute_reply": "2023-03-18T22:17:29.074084Z"
    },
    "papermill": {
     "duration": 0.019635,
     "end_time": "2023-03-18T22:17:29.076979",
     "exception": false,
     "start_time": "2023-03-18T22:17:29.057344",
     "status": "completed"
    },
    "tags": []
   },
   "outputs": [],
   "source": [
    "def bert_encode(hypotheses, premises, tokenizer):\n",
    "    \n",
    "    num_examples = len(hypotheses)\n",
    "\n",
    "    sentence1 = tf.ragged.constant([\n",
    "      encode_sentence(s)\n",
    "      for s in np.array(hypotheses)])\n",
    "    sentence2 = tf.ragged.constant([\n",
    "      encode_sentence(s)\n",
    "       for s in np.array(premises)])\n",
    "\n",
    "    cls = [tokenizer.convert_tokens_to_ids(['[CLS]'])]*sentence1.shape[0]\n",
    "    input_word_ids = tf.concat([cls, sentence1, sentence2], axis=-1)[:,:max_length]\n",
    "\n",
    "    input_mask = tf.ones_like(input_word_ids).to_tensor()\n",
    "\n",
    "    type_cls = tf.zeros_like(cls)\n",
    "    type_s1 = tf.zeros_like(sentence1)\n",
    "    type_s2 = tf.ones_like(sentence2)\n",
    "    input_type_ids = tf.concat(\n",
    "      [type_cls, type_s1, type_s2], axis=-1).to_tensor()[:,:max_length]\n",
    "\n",
    "    inputs = {\n",
    "      'input_word_ids': input_word_ids.to_tensor(),\n",
    "      'input_mask': input_mask,\n",
    "      'input_type_ids': input_type_ids}\n",
    "\n",
    "    return inputs"
   ]
  },
  {
   "cell_type": "code",
   "execution_count": 14,
   "id": "6453bd77",
   "metadata": {
    "execution": {
     "iopub.execute_input": "2023-03-18T22:17:29.097484Z",
     "iopub.status.busy": "2023-03-18T22:17:29.096651Z",
     "iopub.status.idle": "2023-03-18T22:17:40.184536Z",
     "shell.execute_reply": "2023-03-18T22:17:40.183536Z"
    },
    "papermill": {
     "duration": 11.100551,
     "end_time": "2023-03-18T22:17:40.186921",
     "exception": false,
     "start_time": "2023-03-18T22:17:29.086370",
     "status": "completed"
    },
    "tags": []
   },
   "outputs": [],
   "source": [
    "train_input = bert_encode(train.premise.values, train.hypothesis.values, tokenizer)"
   ]
  },
  {
   "cell_type": "code",
   "execution_count": 15,
   "id": "eefc028e",
   "metadata": {
    "execution": {
     "iopub.execute_input": "2023-03-18T22:17:40.209215Z",
     "iopub.status.busy": "2023-03-18T22:17:40.207738Z",
     "iopub.status.idle": "2023-03-18T22:17:40.219152Z",
     "shell.execute_reply": "2023-03-18T22:17:40.218246Z"
    },
    "papermill": {
     "duration": 0.024326,
     "end_time": "2023-03-18T22:17:40.221131",
     "exception": false,
     "start_time": "2023-03-18T22:17:40.196805",
     "status": "completed"
    },
    "tags": []
   },
   "outputs": [
    {
     "data": {
      "text/plain": [
       "{'input_word_ids': <tf.Tensor: shape=(12120, 234), dtype=int32, numpy=\n",
       " array([[  101, 10111, 11762, ...,     0,     0,     0],\n",
       "        [  101, 13252, 10301, ...,     0,     0,     0],\n",
       "        [  101, 13810, 32181, ...,     0,     0,     0],\n",
       "        ...,\n",
       "        [  101, 10117, 12452, ...,     0,     0,     0],\n",
       "        [  101, 11699, 10105, ...,     0,     0,     0],\n",
       "        [  101, 11399, 14764, ...,     0,     0,     0]], dtype=int32)>,\n",
       " 'input_mask': <tf.Tensor: shape=(12120, 234), dtype=int32, numpy=\n",
       " array([[1, 1, 1, ..., 0, 0, 0],\n",
       "        [1, 1, 1, ..., 0, 0, 0],\n",
       "        [1, 1, 1, ..., 0, 0, 0],\n",
       "        ...,\n",
       "        [1, 1, 1, ..., 0, 0, 0],\n",
       "        [1, 1, 1, ..., 0, 0, 0],\n",
       "        [1, 1, 1, ..., 0, 0, 0]], dtype=int32)>,\n",
       " 'input_type_ids': <tf.Tensor: shape=(12120, 234), dtype=int32, numpy=\n",
       " array([[0, 0, 0, ..., 0, 0, 0],\n",
       "        [0, 0, 0, ..., 0, 0, 0],\n",
       "        [0, 0, 0, ..., 0, 0, 0],\n",
       "        ...,\n",
       "        [0, 0, 0, ..., 0, 0, 0],\n",
       "        [0, 0, 0, ..., 0, 0, 0],\n",
       "        [0, 0, 0, ..., 0, 0, 0]], dtype=int32)>}"
      ]
     },
     "execution_count": 15,
     "metadata": {},
     "output_type": "execute_result"
    }
   ],
   "source": [
    "train_input"
   ]
  },
  {
   "cell_type": "code",
   "execution_count": 16,
   "id": "45816e93",
   "metadata": {
    "execution": {
     "iopub.execute_input": "2023-03-18T22:17:40.241585Z",
     "iopub.status.busy": "2023-03-18T22:17:40.241277Z",
     "iopub.status.idle": "2023-03-18T22:17:40.245748Z",
     "shell.execute_reply": "2023-03-18T22:17:40.244828Z"
    },
    "papermill": {
     "duration": 0.017135,
     "end_time": "2023-03-18T22:17:40.247788",
     "exception": false,
     "start_time": "2023-03-18T22:17:40.230653",
     "status": "completed"
    },
    "tags": []
   },
   "outputs": [],
   "source": [
    "max_len=train_input['input_word_ids'].shape[-1]"
   ]
  },
  {
   "cell_type": "markdown",
   "id": "c87ce31d",
   "metadata": {
    "_cell_guid": "3dbd7066-6469-4823-8e09-e2dfa0a68bcc",
    "_uuid": "e1bf9ee4-e872-45d8-a118-a72eb7917d8b",
    "papermill": {
     "duration": 0.009249,
     "end_time": "2023-03-18T22:17:40.266468",
     "exception": false,
     "start_time": "2023-03-18T22:17:40.257219",
     "status": "completed"
    },
    "tags": []
   },
   "source": [
    "## Creating & Training Model"
   ]
  },
  {
   "cell_type": "markdown",
   "id": "efde746c",
   "metadata": {
    "_cell_guid": "7ebc4032-48bf-4bbd-8244-6b4ee38a1f56",
    "_uuid": "33811793-9df3-4d97-84c3-c5367a130cd7",
    "papermill": {
     "duration": 0.009399,
     "end_time": "2023-03-18T22:17:40.285552",
     "exception": false,
     "start_time": "2023-03-18T22:17:40.276153",
     "status": "completed"
    },
    "tags": []
   },
   "source": [
    "Now, we can incorporate the BERT transformer into a Keras Functional Model. For more information about the Keras Functional API, see: https://www.tensorflow.org/guide/keras/functional.\n",
    "\n",
    "This model was inspired by the model in this notebook: https://www.kaggle.com/tanulsingh077/deep-learning-for-nlp-zero-to-transformers-bert#BERT-and-Its-Implementation-on-this-Competition, which is a wonderful introduction to NLP!"
   ]
  },
  {
   "cell_type": "code",
   "execution_count": 17,
   "id": "3fdf475d",
   "metadata": {
    "_cell_guid": "69f90af1-4d66-4b83-a264-df23a3a68e26",
    "_uuid": "1094f3ff-6b5b-4b15-9d93-b0065ae586bd",
    "execution": {
     "iopub.execute_input": "2023-03-18T22:17:40.305826Z",
     "iopub.status.busy": "2023-03-18T22:17:40.305556Z",
     "iopub.status.idle": "2023-03-18T22:17:40.312961Z",
     "shell.execute_reply": "2023-03-18T22:17:40.311982Z"
    },
    "papermill": {
     "duration": 0.019796,
     "end_time": "2023-03-18T22:17:40.315025",
     "exception": false,
     "start_time": "2023-03-18T22:17:40.295229",
     "status": "completed"
    },
    "tags": []
   },
   "outputs": [],
   "source": [
    "\n",
    "def build_model():\n",
    "    bert_encoder = TFBertModel.from_pretrained(model_name)\n",
    "    input_word_ids = tf.keras.Input(shape=(max_len,), dtype=tf.int32, name=\"input_word_ids\")\n",
    "    input_mask = tf.keras.Input(shape=(max_len,), dtype=tf.int32, name=\"input_mask\")\n",
    "    input_type_ids = tf.keras.Input(shape=(max_len,), dtype=tf.int32, name=\"input_type_ids\")\n",
    "    \n",
    "    embedding = bert_encoder([input_word_ids, input_mask, input_type_ids])[0]\n",
    "#     seq_op = tf.keras.layers.Dropout(dropout)(embedding[:,0,:]) \n",
    "#     seq_op = tf.keras.layers.Dense(64)(seq_op)\n",
    "#     seq_op = tf.keras.layers.Dropout(dropout)(seq_op)\n",
    "#     seq_op = tf.keras.layers.Dense(32)(seq_op) \n",
    "#     seq_op = tf.keras.layers.Dropout(dropout)(seq_op)\n",
    "#     seq_op = tf.keras.layers.Dense(16)(seq_op) \n",
    "#     seq_op = tf.keras.layers.Dropout(dropout)(seq_op)\n",
    "#     seq_op = tf.keras.layers.Dense(8)(seq_op)\n",
    "#     seq_op = tf.keras.layers.Dropout(dropout)(seq_op)\n",
    "#     output = tf.keras.layers.Dense(3, activation='softmax')(seq_op)\n",
    "    output = tf.keras.layers.Dense(3, activation='softmax')(embedding[:,0,:])\n",
    "    \n",
    "    model = tf.keras.Model(inputs=[input_word_ids, input_mask, input_type_ids], outputs=output)\n",
    "    model.compile(tf.keras.optimizers.Adam(learning_rate=1e-5), loss='sparse_categorical_crossentropy', metrics=['accuracy'])\n",
    "    \n",
    "    return model"
   ]
  },
  {
   "cell_type": "code",
   "execution_count": 18,
   "id": "5c093076",
   "metadata": {
    "_cell_guid": "97885b33-70f1-4d14-b788-fd1a650d5a57",
    "_uuid": "47c8cc2f-a7b9-4bae-971b-e41277b45c8b",
    "execution": {
     "iopub.execute_input": "2023-03-18T22:17:40.336248Z",
     "iopub.status.busy": "2023-03-18T22:17:40.335479Z",
     "iopub.status.idle": "2023-03-18T22:18:12.263738Z",
     "shell.execute_reply": "2023-03-18T22:18:12.262763Z"
    },
    "papermill": {
     "duration": 31.952791,
     "end_time": "2023-03-18T22:18:12.277228",
     "exception": false,
     "start_time": "2023-03-18T22:17:40.324437",
     "status": "completed"
    },
    "tags": []
   },
   "outputs": [
    {
     "data": {
      "application/vnd.jupyter.widget-view+json": {
       "model_id": "5f095b35c9254a6ab09925471d63e1c0",
       "version_major": 2,
       "version_minor": 0
      },
      "text/plain": [
       "Downloading:   0%|          | 0.00/1.01G [00:00<?, ?B/s]"
      ]
     },
     "metadata": {},
     "output_type": "display_data"
    },
    {
     "name": "stderr",
     "output_type": "stream",
     "text": [
      "Some layers from the model checkpoint at bert-base-multilingual-cased were not used when initializing TFBertModel: ['nsp___cls', 'mlm___cls']\n",
      "- This IS expected if you are initializing TFBertModel from the checkpoint of a model trained on another task or with another architecture (e.g. initializing a BertForSequenceClassification model from a BertForPreTraining model).\n",
      "- This IS NOT expected if you are initializing TFBertModel from the checkpoint of a model that you expect to be exactly identical (initializing a BertForSequenceClassification model from a BertForSequenceClassification model).\n",
      "All the layers of TFBertModel were initialized from the model checkpoint at bert-base-multilingual-cased.\n",
      "If your task is similar to the task the model of the checkpoint was trained on, you can already use TFBertModel for predictions without further training.\n"
     ]
    },
    {
     "name": "stdout",
     "output_type": "stream",
     "text": [
      "Model: \"model\"\n",
      "__________________________________________________________________________________________________\n",
      "Layer (type)                    Output Shape         Param #     Connected to                     \n",
      "==================================================================================================\n",
      "input_word_ids (InputLayer)     [(None, 234)]        0                                            \n",
      "__________________________________________________________________________________________________\n",
      "input_mask (InputLayer)         [(None, 234)]        0                                            \n",
      "__________________________________________________________________________________________________\n",
      "input_type_ids (InputLayer)     [(None, 234)]        0                                            \n",
      "__________________________________________________________________________________________________\n",
      "tf_bert_model (TFBertModel)     TFBaseModelOutputWit 177853440   input_word_ids[0][0]             \n",
      "                                                                 input_mask[0][0]                 \n",
      "                                                                 input_type_ids[0][0]             \n",
      "__________________________________________________________________________________________________\n",
      "tf.__operators__.getitem (Slici (None, 768)          0           tf_bert_model[0][0]              \n",
      "__________________________________________________________________________________________________\n",
      "dense (Dense)                   (None, 3)            2307        tf.__operators__.getitem[0][0]   \n",
      "==================================================================================================\n",
      "Total params: 177,855,747\n",
      "Trainable params: 177,855,747\n",
      "Non-trainable params: 0\n",
      "__________________________________________________________________________________________________\n"
     ]
    }
   ],
   "source": [
    "with strategy.scope():\n",
    "    model = build_model()\n",
    "    model.summary()"
   ]
  },
  {
   "cell_type": "code",
   "execution_count": 19,
   "id": "0e085508",
   "metadata": {
    "execution": {
     "iopub.execute_input": "2023-03-18T22:18:12.300166Z",
     "iopub.status.busy": "2023-03-18T22:18:12.299681Z",
     "iopub.status.idle": "2023-03-18T22:18:12.305370Z",
     "shell.execute_reply": "2023-03-18T22:18:12.304224Z"
    },
    "papermill": {
     "duration": 0.018842,
     "end_time": "2023-03-18T22:18:12.307507",
     "exception": false,
     "start_time": "2023-03-18T22:18:12.288665",
     "status": "completed"
    },
    "tags": []
   },
   "outputs": [],
   "source": [
    "callbacks=[tf.keras.callbacks.EarlyStopping(\n",
    "    monitor='val_loss', min_delta=0, patience=3, verbose=0,\n",
    "    mode='auto'\n",
    "),tf.keras.callbacks.ModelCheckpoint(\n",
    "    filepath='modelWeights.hdf5',\n",
    "    save_weights_only=True,\n",
    "    monitor='val_accuracy',\n",
    "    mode='max',\n",
    "    save_best_only=True)]"
   ]
  },
  {
   "cell_type": "code",
   "execution_count": 20,
   "id": "87473e03",
   "metadata": {
    "_cell_guid": "0423d993-8ff5-4ab9-bc47-87e1cb74c0c5",
    "_uuid": "316f4376-9df7-40ea-bbbd-ae46eb5562e5",
    "execution": {
     "iopub.execute_input": "2023-03-18T22:18:12.330013Z",
     "iopub.status.busy": "2023-03-18T22:18:12.329102Z",
     "iopub.status.idle": "2023-03-18T22:42:25.856501Z",
     "shell.execute_reply": "2023-03-18T22:42:25.855205Z"
    },
    "papermill": {
     "duration": 1453.63029,
     "end_time": "2023-03-18T22:42:25.947738",
     "exception": false,
     "start_time": "2023-03-18T22:18:12.317448",
     "status": "completed"
    },
    "tags": []
   },
   "outputs": [
    {
     "name": "stdout",
     "output_type": "stream",
     "text": [
      "Epoch 1/30\n",
      "303/303 [==============================] - 299s 958ms/step - loss: 0.9327 - accuracy: 0.5533 - val_loss: 0.7929 - val_accuracy: 0.6547\n",
      "Epoch 2/30\n",
      "303/303 [==============================] - 288s 950ms/step - loss: 0.7009 - accuracy: 0.6974 - val_loss: 0.7729 - val_accuracy: 0.6650\n",
      "Epoch 3/30\n",
      "303/303 [==============================] - 288s 949ms/step - loss: 0.5092 - accuracy: 0.7951 - val_loss: 0.8476 - val_accuracy: 0.6564\n",
      "Epoch 4/30\n",
      "303/303 [==============================] - 288s 950ms/step - loss: 0.3226 - accuracy: 0.8755 - val_loss: 1.0644 - val_accuracy: 0.6481\n",
      "Epoch 5/30\n",
      "303/303 [==============================] - 288s 949ms/step - loss: 0.2017 - accuracy: 0.9228 - val_loss: 1.3724 - val_accuracy: 0.6597\n"
     ]
    },
    {
     "data": {
      "text/plain": [
       "<keras.callbacks.History at 0x7f3f85408950>"
      ]
     },
     "execution_count": 20,
     "metadata": {},
     "output_type": "execute_result"
    }
   ],
   "source": [
    "model.fit(train_input, train.label.values, epochs =30, verbose = 1, batch_size = 32, validation_split = 0.2, callbacks=callbacks)"
   ]
  },
  {
   "cell_type": "code",
   "execution_count": 21,
   "id": "c2699dce",
   "metadata": {
    "execution": {
     "iopub.execute_input": "2023-03-18T22:42:26.122779Z",
     "iopub.status.busy": "2023-03-18T22:42:26.122439Z",
     "iopub.status.idle": "2023-03-18T22:42:27.157842Z",
     "shell.execute_reply": "2023-03-18T22:42:27.156787Z"
    },
    "papermill": {
     "duration": 1.125982,
     "end_time": "2023-03-18T22:42:27.160489",
     "exception": false,
     "start_time": "2023-03-18T22:42:26.034507",
     "status": "completed"
    },
    "tags": []
   },
   "outputs": [],
   "source": [
    "model.load_weights('modelWeights.hdf5')"
   ]
  },
  {
   "cell_type": "code",
   "execution_count": 22,
   "id": "aa432f9c",
   "metadata": {
    "_cell_guid": "e26cba08-7fe9-4e2e-ab2e-062a26a5fcac",
    "_uuid": "3bfd96e9-cf2c-41ad-bdcc-8c31408f05bd",
    "execution": {
     "iopub.execute_input": "2023-03-18T22:42:27.337863Z",
     "iopub.status.busy": "2023-03-18T22:42:27.337519Z",
     "iopub.status.idle": "2023-03-18T22:42:47.744571Z",
     "shell.execute_reply": "2023-03-18T22:42:47.743548Z"
    },
    "papermill": {
     "duration": 20.498443,
     "end_time": "2023-03-18T22:42:47.747115",
     "exception": false,
     "start_time": "2023-03-18T22:42:27.248672",
     "status": "completed"
    },
    "tags": []
   },
   "outputs": [],
   "source": [
    "test = pd.read_csv(\"../input/contradictory-my-dear-watson/test.csv\")\n",
    "test_input = bert_encode(test.premise.values, test.hypothesis.values, tokenizer)"
   ]
  },
  {
   "cell_type": "code",
   "execution_count": 23,
   "id": "7c48b0bb",
   "metadata": {
    "execution": {
     "iopub.execute_input": "2023-03-18T22:42:47.923134Z",
     "iopub.status.busy": "2023-03-18T22:42:47.922767Z",
     "iopub.status.idle": "2023-03-18T22:42:47.930894Z",
     "shell.execute_reply": "2023-03-18T22:42:47.929971Z"
    },
    "papermill": {
     "duration": 0.097822,
     "end_time": "2023-03-18T22:42:47.932907",
     "exception": false,
     "start_time": "2023-03-18T22:42:47.835085",
     "status": "completed"
    },
    "tags": []
   },
   "outputs": [
    {
     "data": {
      "text/plain": [
       "234"
      ]
     },
     "execution_count": 23,
     "metadata": {},
     "output_type": "execute_result"
    }
   ],
   "source": [
    "test_input['input_word_ids'].shape[-1]"
   ]
  },
  {
   "cell_type": "code",
   "execution_count": 24,
   "id": "11573ca3",
   "metadata": {
    "_cell_guid": "4b871234-9a42-4f5e-9792-7fc90615b808",
    "_uuid": "9f040800-653f-4f51-9f60-0456d89068be",
    "execution": {
     "iopub.execute_input": "2023-03-18T22:42:48.108926Z",
     "iopub.status.busy": "2023-03-18T22:42:48.108565Z",
     "iopub.status.idle": "2023-03-18T22:42:48.120060Z",
     "shell.execute_reply": "2023-03-18T22:42:48.119166Z"
    },
    "papermill": {
     "duration": 0.102921,
     "end_time": "2023-03-18T22:42:48.121990",
     "exception": false,
     "start_time": "2023-03-18T22:42:48.019069",
     "status": "completed"
    },
    "tags": []
   },
   "outputs": [
    {
     "data": {
      "text/html": [
       "<div>\n",
       "<style scoped>\n",
       "    .dataframe tbody tr th:only-of-type {\n",
       "        vertical-align: middle;\n",
       "    }\n",
       "\n",
       "    .dataframe tbody tr th {\n",
       "        vertical-align: top;\n",
       "    }\n",
       "\n",
       "    .dataframe thead th {\n",
       "        text-align: right;\n",
       "    }\n",
       "</style>\n",
       "<table border=\"1\" class=\"dataframe\">\n",
       "  <thead>\n",
       "    <tr style=\"text-align: right;\">\n",
       "      <th></th>\n",
       "      <th>id</th>\n",
       "      <th>premise</th>\n",
       "      <th>hypothesis</th>\n",
       "      <th>lang_abv</th>\n",
       "      <th>language</th>\n",
       "    </tr>\n",
       "  </thead>\n",
       "  <tbody>\n",
       "    <tr>\n",
       "      <th>0</th>\n",
       "      <td>c6d58c3f69</td>\n",
       "      <td>بکس، کیسی، راہیل، یسعیاہ، کیلی، کیلی، اور کولم...</td>\n",
       "      <td>کیسی کے لئے کوئی یادگار نہیں ہوگا, کولمین ہائی...</td>\n",
       "      <td>ur</td>\n",
       "      <td>Urdu</td>\n",
       "    </tr>\n",
       "    <tr>\n",
       "      <th>1</th>\n",
       "      <td>cefcc82292</td>\n",
       "      <td>هذا هو ما تم نصحنا به.</td>\n",
       "      <td>عندما يتم إخبارهم بما يجب عليهم فعله ، فشلت ال...</td>\n",
       "      <td>ar</td>\n",
       "      <td>Arabic</td>\n",
       "    </tr>\n",
       "    <tr>\n",
       "      <th>2</th>\n",
       "      <td>e98005252c</td>\n",
       "      <td>et cela est en grande partie dû au fait que le...</td>\n",
       "      <td>Les mères se droguent.</td>\n",
       "      <td>fr</td>\n",
       "      <td>French</td>\n",
       "    </tr>\n",
       "    <tr>\n",
       "      <th>3</th>\n",
       "      <td>58518c10ba</td>\n",
       "      <td>与城市及其他公民及社区组织代表就IMA的艺术发展进行对话&amp;amp</td>\n",
       "      <td>IMA与其他组织合作，因为它们都依靠共享资金。</td>\n",
       "      <td>zh</td>\n",
       "      <td>Chinese</td>\n",
       "    </tr>\n",
       "    <tr>\n",
       "      <th>4</th>\n",
       "      <td>c32b0d16df</td>\n",
       "      <td>Она все еще была там.</td>\n",
       "      <td>Мы думали, что она ушла, однако, она осталась.</td>\n",
       "      <td>ru</td>\n",
       "      <td>Russian</td>\n",
       "    </tr>\n",
       "  </tbody>\n",
       "</table>\n",
       "</div>"
      ],
      "text/plain": [
       "           id                                            premise  \\\n",
       "0  c6d58c3f69  بکس، کیسی، راہیل، یسعیاہ، کیلی، کیلی، اور کولم...   \n",
       "1  cefcc82292                             هذا هو ما تم نصحنا به.   \n",
       "2  e98005252c  et cela est en grande partie dû au fait que le...   \n",
       "3  58518c10ba                   与城市及其他公民及社区组织代表就IMA的艺术发展进行对话&amp   \n",
       "4  c32b0d16df                              Она все еще была там.   \n",
       "\n",
       "                                          hypothesis lang_abv language  \n",
       "0  کیسی کے لئے کوئی یادگار نہیں ہوگا, کولمین ہائی...       ur     Urdu  \n",
       "1  عندما يتم إخبارهم بما يجب عليهم فعله ، فشلت ال...       ar   Arabic  \n",
       "2                             Les mères se droguent.       fr   French  \n",
       "3                            IMA与其他组织合作，因为它们都依靠共享资金。       zh  Chinese  \n",
       "4     Мы думали, что она ушла, однако, она осталась.       ru  Russian  "
      ]
     },
     "execution_count": 24,
     "metadata": {},
     "output_type": "execute_result"
    }
   ],
   "source": [
    "test.head()"
   ]
  },
  {
   "cell_type": "markdown",
   "id": "78e5ac08",
   "metadata": {
    "_cell_guid": "87b18b05-30f3-45f9-9c3e-6f8184934bd0",
    "_uuid": "fb1ff888-7684-4888-b861-3c31a3f360b7",
    "papermill": {
     "duration": 0.090454,
     "end_time": "2023-03-18T22:42:48.300515",
     "exception": false,
     "start_time": "2023-03-18T22:42:48.210061",
     "status": "completed"
    },
    "tags": []
   },
   "source": [
    "## Generating & Submitting Predictions"
   ]
  },
  {
   "cell_type": "code",
   "execution_count": 25,
   "id": "82efc6e7",
   "metadata": {
    "_cell_guid": "a7ab0c33-0377-4cb2-b4f9-fc489383fdb7",
    "_uuid": "f9db46a1-1f83-4ddb-85bf-da8f40afe623",
    "execution": {
     "iopub.execute_input": "2023-03-18T22:42:48.490754Z",
     "iopub.status.busy": "2023-03-18T22:42:48.490388Z",
     "iopub.status.idle": "2023-03-18T22:43:39.340338Z",
     "shell.execute_reply": "2023-03-18T22:43:39.339318Z"
    },
    "papermill": {
     "duration": 50.942449,
     "end_time": "2023-03-18T22:43:39.342793",
     "exception": false,
     "start_time": "2023-03-18T22:42:48.400344",
     "status": "completed"
    },
    "tags": []
   },
   "outputs": [],
   "source": [
    "predictions = [np.argmax(i) for i in model.predict(test_input)]"
   ]
  },
  {
   "cell_type": "markdown",
   "id": "91472d20",
   "metadata": {
    "_cell_guid": "1d0e8e42-2746-4331-95a5-3eb78ca6861c",
    "_uuid": "7b489c00-896d-44af-9371-16c2cf222365",
    "papermill": {
     "duration": 0.086582,
     "end_time": "2023-03-18T22:43:39.517705",
     "exception": false,
     "start_time": "2023-03-18T22:43:39.431123",
     "status": "completed"
    },
    "tags": []
   },
   "source": [
    "The submission file will consist of the ID column and a prediction column. We can just copy the ID column from the test file, make it a dataframe, and then add our prediction column."
   ]
  },
  {
   "cell_type": "code",
   "execution_count": 26,
   "id": "922de47d",
   "metadata": {
    "_cell_guid": "add7302f-ae26-4e78-b69d-858cacb35991",
    "_uuid": "9e0e34fa-1ef7-4207-a5c3-c21863c7be27",
    "execution": {
     "iopub.execute_input": "2023-03-18T22:43:39.693502Z",
     "iopub.status.busy": "2023-03-18T22:43:39.691712Z",
     "iopub.status.idle": "2023-03-18T22:43:39.701848Z",
     "shell.execute_reply": "2023-03-18T22:43:39.700931Z"
    },
    "papermill": {
     "duration": 0.100012,
     "end_time": "2023-03-18T22:43:39.703859",
     "exception": false,
     "start_time": "2023-03-18T22:43:39.603847",
     "status": "completed"
    },
    "tags": []
   },
   "outputs": [],
   "source": [
    "submission = test.id.copy().to_frame()\n",
    "submission['prediction'] = predictions"
   ]
  },
  {
   "cell_type": "code",
   "execution_count": 27,
   "id": "86f2e62c",
   "metadata": {
    "_cell_guid": "d4fdefdc-4839-4962-ae75-6807390a6de7",
    "_uuid": "1d4999aa-10d2-4a88-962a-8f10bded837b",
    "execution": {
     "iopub.execute_input": "2023-03-18T22:43:39.894032Z",
     "iopub.status.busy": "2023-03-18T22:43:39.893713Z",
     "iopub.status.idle": "2023-03-18T22:43:39.902896Z",
     "shell.execute_reply": "2023-03-18T22:43:39.901998Z"
    },
    "papermill": {
     "duration": 0.098876,
     "end_time": "2023-03-18T22:43:39.904780",
     "exception": false,
     "start_time": "2023-03-18T22:43:39.805904",
     "status": "completed"
    },
    "tags": []
   },
   "outputs": [
    {
     "data": {
      "text/html": [
       "<div>\n",
       "<style scoped>\n",
       "    .dataframe tbody tr th:only-of-type {\n",
       "        vertical-align: middle;\n",
       "    }\n",
       "\n",
       "    .dataframe tbody tr th {\n",
       "        vertical-align: top;\n",
       "    }\n",
       "\n",
       "    .dataframe thead th {\n",
       "        text-align: right;\n",
       "    }\n",
       "</style>\n",
       "<table border=\"1\" class=\"dataframe\">\n",
       "  <thead>\n",
       "    <tr style=\"text-align: right;\">\n",
       "      <th></th>\n",
       "      <th>id</th>\n",
       "      <th>prediction</th>\n",
       "    </tr>\n",
       "  </thead>\n",
       "  <tbody>\n",
       "    <tr>\n",
       "      <th>0</th>\n",
       "      <td>c6d58c3f69</td>\n",
       "      <td>2</td>\n",
       "    </tr>\n",
       "    <tr>\n",
       "      <th>1</th>\n",
       "      <td>cefcc82292</td>\n",
       "      <td>1</td>\n",
       "    </tr>\n",
       "    <tr>\n",
       "      <th>2</th>\n",
       "      <td>e98005252c</td>\n",
       "      <td>0</td>\n",
       "    </tr>\n",
       "    <tr>\n",
       "      <th>3</th>\n",
       "      <td>58518c10ba</td>\n",
       "      <td>1</td>\n",
       "    </tr>\n",
       "    <tr>\n",
       "      <th>4</th>\n",
       "      <td>c32b0d16df</td>\n",
       "      <td>0</td>\n",
       "    </tr>\n",
       "  </tbody>\n",
       "</table>\n",
       "</div>"
      ],
      "text/plain": [
       "           id  prediction\n",
       "0  c6d58c3f69           2\n",
       "1  cefcc82292           1\n",
       "2  e98005252c           0\n",
       "3  58518c10ba           1\n",
       "4  c32b0d16df           0"
      ]
     },
     "execution_count": 27,
     "metadata": {},
     "output_type": "execute_result"
    }
   ],
   "source": [
    "submission.head()"
   ]
  },
  {
   "cell_type": "code",
   "execution_count": 28,
   "id": "ed685a62",
   "metadata": {
    "_cell_guid": "84abe9e3-ef04-4dac-97d2-2308a0f11313",
    "_uuid": "b8463f7e-8b2f-4c24-8eb3-a35ec02a2d6e",
    "execution": {
     "iopub.execute_input": "2023-03-18T22:43:40.079502Z",
     "iopub.status.busy": "2023-03-18T22:43:40.078682Z",
     "iopub.status.idle": "2023-03-18T22:43:40.090175Z",
     "shell.execute_reply": "2023-03-18T22:43:40.089346Z"
    },
    "papermill": {
     "duration": 0.101126,
     "end_time": "2023-03-18T22:43:40.092156",
     "exception": false,
     "start_time": "2023-03-18T22:43:39.991030",
     "status": "completed"
    },
    "tags": []
   },
   "outputs": [],
   "source": [
    "submission.to_csv(\"submission.csv\", index = False)"
   ]
  },
  {
   "cell_type": "markdown",
   "id": "bf224b5e",
   "metadata": {
    "_cell_guid": "4d057f53-824d-400f-b9f0-5adfc06322ef",
    "_uuid": "1af8c748-a13d-4274-9208-94d9895fdc19",
    "papermill": {
     "duration": 0.086332,
     "end_time": "2023-03-18T22:43:40.265457",
     "exception": false,
     "start_time": "2023-03-18T22:43:40.179125",
     "status": "completed"
    },
    "tags": []
   },
   "source": [
    "And now we've created our submission file, which can be submitted to the competition. Good luck!"
   ]
  }
 ],
 "metadata": {
  "kernelspec": {
   "display_name": "Python 3",
   "language": "python",
   "name": "python3"
  },
  "language_info": {
   "codemirror_mode": {
    "name": "ipython",
    "version": 3
   },
   "file_extension": ".py",
   "mimetype": "text/x-python",
   "name": "python",
   "nbconvert_exporter": "python",
   "pygments_lexer": "ipython3",
   "version": "3.7.12"
  },
  "papermill": {
   "default_parameters": {},
   "duration": 1599.987489,
   "end_time": "2023-03-18T22:43:43.690463",
   "environment_variables": {},
   "exception": null,
   "input_path": "__notebook__.ipynb",
   "output_path": "__notebook__.ipynb",
   "parameters": {},
   "start_time": "2023-03-18T22:17:03.702974",
   "version": "2.3.4"
  },
  "widgets": {
   "application/vnd.jupyter.widget-state+json": {
    "state": {
     "01631eb8487c416189882977236e9b6b": {
      "model_module": "@jupyter-widgets/controls",
      "model_module_version": "1.5.0",
      "model_name": "DescriptionStyleModel",
      "state": {
       "_model_module": "@jupyter-widgets/controls",
       "_model_module_version": "1.5.0",
       "_model_name": "DescriptionStyleModel",
       "_view_count": null,
       "_view_module": "@jupyter-widgets/base",
       "_view_module_version": "1.2.0",
       "_view_name": "StyleView",
       "description_width": ""
      }
     },
     "091087903ff04b2584c9ead1acd1080c": {
      "model_module": "@jupyter-widgets/base",
      "model_module_version": "1.2.0",
      "model_name": "LayoutModel",
      "state": {
       "_model_module": "@jupyter-widgets/base",
       "_model_module_version": "1.2.0",
       "_model_name": "LayoutModel",
       "_view_count": null,
       "_view_module": "@jupyter-widgets/base",
       "_view_module_version": "1.2.0",
       "_view_name": "LayoutView",
       "align_content": null,
       "align_items": null,
       "align_self": null,
       "border": null,
       "bottom": null,
       "display": null,
       "flex": null,
       "flex_flow": null,
       "grid_area": null,
       "grid_auto_columns": null,
       "grid_auto_flow": null,
       "grid_auto_rows": null,
       "grid_column": null,
       "grid_gap": null,
       "grid_row": null,
       "grid_template_areas": null,
       "grid_template_columns": null,
       "grid_template_rows": null,
       "height": null,
       "justify_content": null,
       "justify_items": null,
       "left": null,
       "margin": null,
       "max_height": null,
       "max_width": null,
       "min_height": null,
       "min_width": null,
       "object_fit": null,
       "object_position": null,
       "order": null,
       "overflow": null,
       "overflow_x": null,
       "overflow_y": null,
       "padding": null,
       "right": null,
       "top": null,
       "visibility": null,
       "width": null
      }
     },
     "0beea7a2f376456bb223ecfc93af1fcf": {
      "model_module": "@jupyter-widgets/base",
      "model_module_version": "1.2.0",
      "model_name": "LayoutModel",
      "state": {
       "_model_module": "@jupyter-widgets/base",
       "_model_module_version": "1.2.0",
       "_model_name": "LayoutModel",
       "_view_count": null,
       "_view_module": "@jupyter-widgets/base",
       "_view_module_version": "1.2.0",
       "_view_name": "LayoutView",
       "align_content": null,
       "align_items": null,
       "align_self": null,
       "border": null,
       "bottom": null,
       "display": null,
       "flex": null,
       "flex_flow": null,
       "grid_area": null,
       "grid_auto_columns": null,
       "grid_auto_flow": null,
       "grid_auto_rows": null,
       "grid_column": null,
       "grid_gap": null,
       "grid_row": null,
       "grid_template_areas": null,
       "grid_template_columns": null,
       "grid_template_rows": null,
       "height": null,
       "justify_content": null,
       "justify_items": null,
       "left": null,
       "margin": null,
       "max_height": null,
       "max_width": null,
       "min_height": null,
       "min_width": null,
       "object_fit": null,
       "object_position": null,
       "order": null,
       "overflow": null,
       "overflow_x": null,
       "overflow_y": null,
       "padding": null,
       "right": null,
       "top": null,
       "visibility": null,
       "width": null
      }
     },
     "10b1cb0e06ee4ed895a88ddb4784a1eb": {
      "model_module": "@jupyter-widgets/controls",
      "model_module_version": "1.5.0",
      "model_name": "DescriptionStyleModel",
      "state": {
       "_model_module": "@jupyter-widgets/controls",
       "_model_module_version": "1.5.0",
       "_model_name": "DescriptionStyleModel",
       "_view_count": null,
       "_view_module": "@jupyter-widgets/base",
       "_view_module_version": "1.2.0",
       "_view_name": "StyleView",
       "description_width": ""
      }
     },
     "480efa8453ff4c8c85c842c2f8869907": {
      "model_module": "@jupyter-widgets/base",
      "model_module_version": "1.2.0",
      "model_name": "LayoutModel",
      "state": {
       "_model_module": "@jupyter-widgets/base",
       "_model_module_version": "1.2.0",
       "_model_name": "LayoutModel",
       "_view_count": null,
       "_view_module": "@jupyter-widgets/base",
       "_view_module_version": "1.2.0",
       "_view_name": "LayoutView",
       "align_content": null,
       "align_items": null,
       "align_self": null,
       "border": null,
       "bottom": null,
       "display": null,
       "flex": null,
       "flex_flow": null,
       "grid_area": null,
       "grid_auto_columns": null,
       "grid_auto_flow": null,
       "grid_auto_rows": null,
       "grid_column": null,
       "grid_gap": null,
       "grid_row": null,
       "grid_template_areas": null,
       "grid_template_columns": null,
       "grid_template_rows": null,
       "height": null,
       "justify_content": null,
       "justify_items": null,
       "left": null,
       "margin": null,
       "max_height": null,
       "max_width": null,
       "min_height": null,
       "min_width": null,
       "object_fit": null,
       "object_position": null,
       "order": null,
       "overflow": null,
       "overflow_x": null,
       "overflow_y": null,
       "padding": null,
       "right": null,
       "top": null,
       "visibility": null,
       "width": null
      }
     },
     "52b0a86b4f5d48d6acb68cd376ee6ffe": {
      "model_module": "@jupyter-widgets/controls",
      "model_module_version": "1.5.0",
      "model_name": "HTMLModel",
      "state": {
       "_dom_classes": [],
       "_model_module": "@jupyter-widgets/controls",
       "_model_module_version": "1.5.0",
       "_model_name": "HTMLModel",
       "_view_count": null,
       "_view_module": "@jupyter-widgets/controls",
       "_view_module_version": "1.5.0",
       "_view_name": "HTMLView",
       "description": "",
       "description_tooltip": null,
       "layout": "IPY_MODEL_ca7b66c73eee42f3a9eff50f95e288e4",
       "placeholder": "​",
       "style": "IPY_MODEL_5ff4b50b3aed43ddaaad097d328469aa",
       "value": " 972k/972k [00:00&lt;00:00, 1.20MB/s]"
      }
     },
     "52b1e2023a7f4818becab72d7181f7f1": {
      "model_module": "@jupyter-widgets/controls",
      "model_module_version": "1.5.0",
      "model_name": "ProgressStyleModel",
      "state": {
       "_model_module": "@jupyter-widgets/controls",
       "_model_module_version": "1.5.0",
       "_model_name": "ProgressStyleModel",
       "_view_count": null,
       "_view_module": "@jupyter-widgets/base",
       "_view_module_version": "1.2.0",
       "_view_name": "StyleView",
       "bar_color": null,
       "description_width": ""
      }
     },
     "5c3804e16ca349b68e61d9420dfb4451": {
      "model_module": "@jupyter-widgets/controls",
      "model_module_version": "1.5.0",
      "model_name": "HBoxModel",
      "state": {
       "_dom_classes": [],
       "_model_module": "@jupyter-widgets/controls",
       "_model_module_version": "1.5.0",
       "_model_name": "HBoxModel",
       "_view_count": null,
       "_view_module": "@jupyter-widgets/controls",
       "_view_module_version": "1.5.0",
       "_view_name": "HBoxView",
       "box_style": "",
       "children": [
        "IPY_MODEL_98ededb30a4d4d899df0c64bbcb9db8f",
        "IPY_MODEL_c92b95fdceec48e48618492405835085",
        "IPY_MODEL_d914c853c26c4684a346100664df75c3"
       ],
       "layout": "IPY_MODEL_a0dfd463da114ae0afe219dffedbe3b4"
      }
     },
     "5f095b35c9254a6ab09925471d63e1c0": {
      "model_module": "@jupyter-widgets/controls",
      "model_module_version": "1.5.0",
      "model_name": "HBoxModel",
      "state": {
       "_dom_classes": [],
       "_model_module": "@jupyter-widgets/controls",
       "_model_module_version": "1.5.0",
       "_model_name": "HBoxModel",
       "_view_count": null,
       "_view_module": "@jupyter-widgets/controls",
       "_view_module_version": "1.5.0",
       "_view_name": "HBoxView",
       "box_style": "",
       "children": [
        "IPY_MODEL_b02a62abb4f743cab4d33b7c6ea14530",
        "IPY_MODEL_61cea6dae6f2446db4864e68b6d37391",
        "IPY_MODEL_c706d12a143041b5ba5b67e0aca55891"
       ],
       "layout": "IPY_MODEL_480efa8453ff4c8c85c842c2f8869907"
      }
     },
     "5ff4b50b3aed43ddaaad097d328469aa": {
      "model_module": "@jupyter-widgets/controls",
      "model_module_version": "1.5.0",
      "model_name": "DescriptionStyleModel",
      "state": {
       "_model_module": "@jupyter-widgets/controls",
       "_model_module_version": "1.5.0",
       "_model_name": "DescriptionStyleModel",
       "_view_count": null,
       "_view_module": "@jupyter-widgets/base",
       "_view_module_version": "1.2.0",
       "_view_name": "StyleView",
       "description_width": ""
      }
     },
     "61cea6dae6f2446db4864e68b6d37391": {
      "model_module": "@jupyter-widgets/controls",
      "model_module_version": "1.5.0",
      "model_name": "FloatProgressModel",
      "state": {
       "_dom_classes": [],
       "_model_module": "@jupyter-widgets/controls",
       "_model_module_version": "1.5.0",
       "_model_name": "FloatProgressModel",
       "_view_count": null,
       "_view_module": "@jupyter-widgets/controls",
       "_view_module_version": "1.5.0",
       "_view_name": "ProgressView",
       "bar_style": "success",
       "description": "",
       "description_tooltip": null,
       "layout": "IPY_MODEL_fab3bb6d59c54febad0e4fc420627cd6",
       "max": 1083389348,
       "min": 0,
       "orientation": "horizontal",
       "style": "IPY_MODEL_780af2f2756d4268881969885f40bf22",
       "value": 1083389348
      }
     },
     "64fc391d34fa46e8b1a8d20410e0bc39": {
      "model_module": "@jupyter-widgets/controls",
      "model_module_version": "1.5.0",
      "model_name": "ProgressStyleModel",
      "state": {
       "_model_module": "@jupyter-widgets/controls",
       "_model_module_version": "1.5.0",
       "_model_name": "ProgressStyleModel",
       "_view_count": null,
       "_view_module": "@jupyter-widgets/base",
       "_view_module_version": "1.2.0",
       "_view_name": "StyleView",
       "bar_color": null,
       "description_width": ""
      }
     },
     "6f6a06da9a9a4af78b1c2632aaa9911b": {
      "model_module": "@jupyter-widgets/controls",
      "model_module_version": "1.5.0",
      "model_name": "DescriptionStyleModel",
      "state": {
       "_model_module": "@jupyter-widgets/controls",
       "_model_module_version": "1.5.0",
       "_model_name": "DescriptionStyleModel",
       "_view_count": null,
       "_view_module": "@jupyter-widgets/base",
       "_view_module_version": "1.2.0",
       "_view_name": "StyleView",
       "description_width": ""
      }
     },
     "7493ec9bc39549709cd2a5e02a91f52c": {
      "model_module": "@jupyter-widgets/base",
      "model_module_version": "1.2.0",
      "model_name": "LayoutModel",
      "state": {
       "_model_module": "@jupyter-widgets/base",
       "_model_module_version": "1.2.0",
       "_model_name": "LayoutModel",
       "_view_count": null,
       "_view_module": "@jupyter-widgets/base",
       "_view_module_version": "1.2.0",
       "_view_name": "LayoutView",
       "align_content": null,
       "align_items": null,
       "align_self": null,
       "border": null,
       "bottom": null,
       "display": null,
       "flex": null,
       "flex_flow": null,
       "grid_area": null,
       "grid_auto_columns": null,
       "grid_auto_flow": null,
       "grid_auto_rows": null,
       "grid_column": null,
       "grid_gap": null,
       "grid_row": null,
       "grid_template_areas": null,
       "grid_template_columns": null,
       "grid_template_rows": null,
       "height": null,
       "justify_content": null,
       "justify_items": null,
       "left": null,
       "margin": null,
       "max_height": null,
       "max_width": null,
       "min_height": null,
       "min_width": null,
       "object_fit": null,
       "object_position": null,
       "order": null,
       "overflow": null,
       "overflow_x": null,
       "overflow_y": null,
       "padding": null,
       "right": null,
       "top": null,
       "visibility": null,
       "width": null
      }
     },
     "76cf3a7372664b89a3c894c137dfffb4": {
      "model_module": "@jupyter-widgets/controls",
      "model_module_version": "1.5.0",
      "model_name": "HTMLModel",
      "state": {
       "_dom_classes": [],
       "_model_module": "@jupyter-widgets/controls",
       "_model_module_version": "1.5.0",
       "_model_name": "HTMLModel",
       "_view_count": null,
       "_view_module": "@jupyter-widgets/controls",
       "_view_module_version": "1.5.0",
       "_view_name": "HTMLView",
       "description": "",
       "description_tooltip": null,
       "layout": "IPY_MODEL_cf01ca37b0fc4110a08b525e2429e7be",
       "placeholder": "​",
       "style": "IPY_MODEL_c07f2dc9f3e14ac288f3bb140f3bf3dc",
       "value": " 625/625 [00:00&lt;00:00, 24.6kB/s]"
      }
     },
     "77aaddc261a54fc3a231679a8208fa8a": {
      "model_module": "@jupyter-widgets/base",
      "model_module_version": "1.2.0",
      "model_name": "LayoutModel",
      "state": {
       "_model_module": "@jupyter-widgets/base",
       "_model_module_version": "1.2.0",
       "_model_name": "LayoutModel",
       "_view_count": null,
       "_view_module": "@jupyter-widgets/base",
       "_view_module_version": "1.2.0",
       "_view_name": "LayoutView",
       "align_content": null,
       "align_items": null,
       "align_self": null,
       "border": null,
       "bottom": null,
       "display": null,
       "flex": null,
       "flex_flow": null,
       "grid_area": null,
       "grid_auto_columns": null,
       "grid_auto_flow": null,
       "grid_auto_rows": null,
       "grid_column": null,
       "grid_gap": null,
       "grid_row": null,
       "grid_template_areas": null,
       "grid_template_columns": null,
       "grid_template_rows": null,
       "height": null,
       "justify_content": null,
       "justify_items": null,
       "left": null,
       "margin": null,
       "max_height": null,
       "max_width": null,
       "min_height": null,
       "min_width": null,
       "object_fit": null,
       "object_position": null,
       "order": null,
       "overflow": null,
       "overflow_x": null,
       "overflow_y": null,
       "padding": null,
       "right": null,
       "top": null,
       "visibility": null,
       "width": null
      }
     },
     "780af2f2756d4268881969885f40bf22": {
      "model_module": "@jupyter-widgets/controls",
      "model_module_version": "1.5.0",
      "model_name": "ProgressStyleModel",
      "state": {
       "_model_module": "@jupyter-widgets/controls",
       "_model_module_version": "1.5.0",
       "_model_name": "ProgressStyleModel",
       "_view_count": null,
       "_view_module": "@jupyter-widgets/base",
       "_view_module_version": "1.2.0",
       "_view_name": "StyleView",
       "bar_color": null,
       "description_width": ""
      }
     },
     "7bd4da3ad1674871b54e619e7c947d6e": {
      "model_module": "@jupyter-widgets/base",
      "model_module_version": "1.2.0",
      "model_name": "LayoutModel",
      "state": {
       "_model_module": "@jupyter-widgets/base",
       "_model_module_version": "1.2.0",
       "_model_name": "LayoutModel",
       "_view_count": null,
       "_view_module": "@jupyter-widgets/base",
       "_view_module_version": "1.2.0",
       "_view_name": "LayoutView",
       "align_content": null,
       "align_items": null,
       "align_self": null,
       "border": null,
       "bottom": null,
       "display": null,
       "flex": null,
       "flex_flow": null,
       "grid_area": null,
       "grid_auto_columns": null,
       "grid_auto_flow": null,
       "grid_auto_rows": null,
       "grid_column": null,
       "grid_gap": null,
       "grid_row": null,
       "grid_template_areas": null,
       "grid_template_columns": null,
       "grid_template_rows": null,
       "height": null,
       "justify_content": null,
       "justify_items": null,
       "left": null,
       "margin": null,
       "max_height": null,
       "max_width": null,
       "min_height": null,
       "min_width": null,
       "object_fit": null,
       "object_position": null,
       "order": null,
       "overflow": null,
       "overflow_x": null,
       "overflow_y": null,
       "padding": null,
       "right": null,
       "top": null,
       "visibility": null,
       "width": null
      }
     },
     "98ededb30a4d4d899df0c64bbcb9db8f": {
      "model_module": "@jupyter-widgets/controls",
      "model_module_version": "1.5.0",
      "model_name": "HTMLModel",
      "state": {
       "_dom_classes": [],
       "_model_module": "@jupyter-widgets/controls",
       "_model_module_version": "1.5.0",
       "_model_name": "HTMLModel",
       "_view_count": null,
       "_view_module": "@jupyter-widgets/controls",
       "_view_module_version": "1.5.0",
       "_view_name": "HTMLView",
       "description": "",
       "description_tooltip": null,
       "layout": "IPY_MODEL_7493ec9bc39549709cd2a5e02a91f52c",
       "placeholder": "​",
       "style": "IPY_MODEL_d1f80c518ef14b0b98af9fa87231b5db",
       "value": "Downloading: 100%"
      }
     },
     "a002e80099df4493a8a1a66f1ebcb6e1": {
      "model_module": "@jupyter-widgets/controls",
      "model_module_version": "1.5.0",
      "model_name": "HTMLModel",
      "state": {
       "_dom_classes": [],
       "_model_module": "@jupyter-widgets/controls",
       "_model_module_version": "1.5.0",
       "_model_name": "HTMLModel",
       "_view_count": null,
       "_view_module": "@jupyter-widgets/controls",
       "_view_module_version": "1.5.0",
       "_view_name": "HTMLView",
       "description": "",
       "description_tooltip": null,
       "layout": "IPY_MODEL_7bd4da3ad1674871b54e619e7c947d6e",
       "placeholder": "​",
       "style": "IPY_MODEL_b8a6e492c557450b84cb70ee22af0abf",
       "value": "Downloading: 100%"
      }
     },
     "a0dfd463da114ae0afe219dffedbe3b4": {
      "model_module": "@jupyter-widgets/base",
      "model_module_version": "1.2.0",
      "model_name": "LayoutModel",
      "state": {
       "_model_module": "@jupyter-widgets/base",
       "_model_module_version": "1.2.0",
       "_model_name": "LayoutModel",
       "_view_count": null,
       "_view_module": "@jupyter-widgets/base",
       "_view_module_version": "1.2.0",
       "_view_name": "LayoutView",
       "align_content": null,
       "align_items": null,
       "align_self": null,
       "border": null,
       "bottom": null,
       "display": null,
       "flex": null,
       "flex_flow": null,
       "grid_area": null,
       "grid_auto_columns": null,
       "grid_auto_flow": null,
       "grid_auto_rows": null,
       "grid_column": null,
       "grid_gap": null,
       "grid_row": null,
       "grid_template_areas": null,
       "grid_template_columns": null,
       "grid_template_rows": null,
       "height": null,
       "justify_content": null,
       "justify_items": null,
       "left": null,
       "margin": null,
       "max_height": null,
       "max_width": null,
       "min_height": null,
       "min_width": null,
       "object_fit": null,
       "object_position": null,
       "order": null,
       "overflow": null,
       "overflow_x": null,
       "overflow_y": null,
       "padding": null,
       "right": null,
       "top": null,
       "visibility": null,
       "width": null
      }
     },
     "abaa07e9305f4a1596734b78d9a89ff4": {
      "model_module": "@jupyter-widgets/controls",
      "model_module_version": "1.5.0",
      "model_name": "FloatProgressModel",
      "state": {
       "_dom_classes": [],
       "_model_module": "@jupyter-widgets/controls",
       "_model_module_version": "1.5.0",
       "_model_name": "FloatProgressModel",
       "_view_count": null,
       "_view_module": "@jupyter-widgets/controls",
       "_view_module_version": "1.5.0",
       "_view_name": "ProgressView",
       "bar_style": "success",
       "description": "",
       "description_tooltip": null,
       "layout": "IPY_MODEL_c4c62ce0234544f6bf526b2b78e33f2c",
       "max": 995526,
       "min": 0,
       "orientation": "horizontal",
       "style": "IPY_MODEL_64fc391d34fa46e8b1a8d20410e0bc39",
       "value": 995526
      }
     },
     "b02a62abb4f743cab4d33b7c6ea14530": {
      "model_module": "@jupyter-widgets/controls",
      "model_module_version": "1.5.0",
      "model_name": "HTMLModel",
      "state": {
       "_dom_classes": [],
       "_model_module": "@jupyter-widgets/controls",
       "_model_module_version": "1.5.0",
       "_model_name": "HTMLModel",
       "_view_count": null,
       "_view_module": "@jupyter-widgets/controls",
       "_view_module_version": "1.5.0",
       "_view_name": "HTMLView",
       "description": "",
       "description_tooltip": null,
       "layout": "IPY_MODEL_c687ae33d106408faba52e11073b0347",
       "placeholder": "​",
       "style": "IPY_MODEL_01631eb8487c416189882977236e9b6b",
       "value": "Downloading: 100%"
      }
     },
     "b54d6752fc884baeb5bd4b81c391d1a8": {
      "model_module": "@jupyter-widgets/controls",
      "model_module_version": "1.5.0",
      "model_name": "DescriptionStyleModel",
      "state": {
       "_model_module": "@jupyter-widgets/controls",
       "_model_module_version": "1.5.0",
       "_model_name": "DescriptionStyleModel",
       "_view_count": null,
       "_view_module": "@jupyter-widgets/base",
       "_view_module_version": "1.2.0",
       "_view_name": "StyleView",
       "description_width": ""
      }
     },
     "b8a6e492c557450b84cb70ee22af0abf": {
      "model_module": "@jupyter-widgets/controls",
      "model_module_version": "1.5.0",
      "model_name": "DescriptionStyleModel",
      "state": {
       "_model_module": "@jupyter-widgets/controls",
       "_model_module_version": "1.5.0",
       "_model_name": "DescriptionStyleModel",
       "_view_count": null,
       "_view_module": "@jupyter-widgets/base",
       "_view_module_version": "1.2.0",
       "_view_name": "StyleView",
       "description_width": ""
      }
     },
     "b976521838424e5499920e26322b5891": {
      "model_module": "@jupyter-widgets/base",
      "model_module_version": "1.2.0",
      "model_name": "LayoutModel",
      "state": {
       "_model_module": "@jupyter-widgets/base",
       "_model_module_version": "1.2.0",
       "_model_name": "LayoutModel",
       "_view_count": null,
       "_view_module": "@jupyter-widgets/base",
       "_view_module_version": "1.2.0",
       "_view_name": "LayoutView",
       "align_content": null,
       "align_items": null,
       "align_self": null,
       "border": null,
       "bottom": null,
       "display": null,
       "flex": null,
       "flex_flow": null,
       "grid_area": null,
       "grid_auto_columns": null,
       "grid_auto_flow": null,
       "grid_auto_rows": null,
       "grid_column": null,
       "grid_gap": null,
       "grid_row": null,
       "grid_template_areas": null,
       "grid_template_columns": null,
       "grid_template_rows": null,
       "height": null,
       "justify_content": null,
       "justify_items": null,
       "left": null,
       "margin": null,
       "max_height": null,
       "max_width": null,
       "min_height": null,
       "min_width": null,
       "object_fit": null,
       "object_position": null,
       "order": null,
       "overflow": null,
       "overflow_x": null,
       "overflow_y": null,
       "padding": null,
       "right": null,
       "top": null,
       "visibility": null,
       "width": null
      }
     },
     "bcd814ef12ad4e4fa54a75e50164fda8": {
      "model_module": "@jupyter-widgets/base",
      "model_module_version": "1.2.0",
      "model_name": "LayoutModel",
      "state": {
       "_model_module": "@jupyter-widgets/base",
       "_model_module_version": "1.2.0",
       "_model_name": "LayoutModel",
       "_view_count": null,
       "_view_module": "@jupyter-widgets/base",
       "_view_module_version": "1.2.0",
       "_view_name": "LayoutView",
       "align_content": null,
       "align_items": null,
       "align_self": null,
       "border": null,
       "bottom": null,
       "display": null,
       "flex": null,
       "flex_flow": null,
       "grid_area": null,
       "grid_auto_columns": null,
       "grid_auto_flow": null,
       "grid_auto_rows": null,
       "grid_column": null,
       "grid_gap": null,
       "grid_row": null,
       "grid_template_areas": null,
       "grid_template_columns": null,
       "grid_template_rows": null,
       "height": null,
       "justify_content": null,
       "justify_items": null,
       "left": null,
       "margin": null,
       "max_height": null,
       "max_width": null,
       "min_height": null,
       "min_width": null,
       "object_fit": null,
       "object_position": null,
       "order": null,
       "overflow": null,
       "overflow_x": null,
       "overflow_y": null,
       "padding": null,
       "right": null,
       "top": null,
       "visibility": null,
       "width": null
      }
     },
     "c07f2dc9f3e14ac288f3bb140f3bf3dc": {
      "model_module": "@jupyter-widgets/controls",
      "model_module_version": "1.5.0",
      "model_name": "DescriptionStyleModel",
      "state": {
       "_model_module": "@jupyter-widgets/controls",
       "_model_module_version": "1.5.0",
       "_model_name": "DescriptionStyleModel",
       "_view_count": null,
       "_view_module": "@jupyter-widgets/base",
       "_view_module_version": "1.2.0",
       "_view_name": "StyleView",
       "description_width": ""
      }
     },
     "c2ad9163a87345afa5374ef25c9d855e": {
      "model_module": "@jupyter-widgets/controls",
      "model_module_version": "1.5.0",
      "model_name": "HBoxModel",
      "state": {
       "_dom_classes": [],
       "_model_module": "@jupyter-widgets/controls",
       "_model_module_version": "1.5.0",
       "_model_name": "HBoxModel",
       "_view_count": null,
       "_view_module": "@jupyter-widgets/controls",
       "_view_module_version": "1.5.0",
       "_view_name": "HBoxView",
       "box_style": "",
       "children": [
        "IPY_MODEL_ee3084525cd44bc493977e1480485bbc",
        "IPY_MODEL_abaa07e9305f4a1596734b78d9a89ff4",
        "IPY_MODEL_52b0a86b4f5d48d6acb68cd376ee6ffe"
       ],
       "layout": "IPY_MODEL_b976521838424e5499920e26322b5891"
      }
     },
     "c4c62ce0234544f6bf526b2b78e33f2c": {
      "model_module": "@jupyter-widgets/base",
      "model_module_version": "1.2.0",
      "model_name": "LayoutModel",
      "state": {
       "_model_module": "@jupyter-widgets/base",
       "_model_module_version": "1.2.0",
       "_model_name": "LayoutModel",
       "_view_count": null,
       "_view_module": "@jupyter-widgets/base",
       "_view_module_version": "1.2.0",
       "_view_name": "LayoutView",
       "align_content": null,
       "align_items": null,
       "align_self": null,
       "border": null,
       "bottom": null,
       "display": null,
       "flex": null,
       "flex_flow": null,
       "grid_area": null,
       "grid_auto_columns": null,
       "grid_auto_flow": null,
       "grid_auto_rows": null,
       "grid_column": null,
       "grid_gap": null,
       "grid_row": null,
       "grid_template_areas": null,
       "grid_template_columns": null,
       "grid_template_rows": null,
       "height": null,
       "justify_content": null,
       "justify_items": null,
       "left": null,
       "margin": null,
       "max_height": null,
       "max_width": null,
       "min_height": null,
       "min_width": null,
       "object_fit": null,
       "object_position": null,
       "order": null,
       "overflow": null,
       "overflow_x": null,
       "overflow_y": null,
       "padding": null,
       "right": null,
       "top": null,
       "visibility": null,
       "width": null
      }
     },
     "c687ae33d106408faba52e11073b0347": {
      "model_module": "@jupyter-widgets/base",
      "model_module_version": "1.2.0",
      "model_name": "LayoutModel",
      "state": {
       "_model_module": "@jupyter-widgets/base",
       "_model_module_version": "1.2.0",
       "_model_name": "LayoutModel",
       "_view_count": null,
       "_view_module": "@jupyter-widgets/base",
       "_view_module_version": "1.2.0",
       "_view_name": "LayoutView",
       "align_content": null,
       "align_items": null,
       "align_self": null,
       "border": null,
       "bottom": null,
       "display": null,
       "flex": null,
       "flex_flow": null,
       "grid_area": null,
       "grid_auto_columns": null,
       "grid_auto_flow": null,
       "grid_auto_rows": null,
       "grid_column": null,
       "grid_gap": null,
       "grid_row": null,
       "grid_template_areas": null,
       "grid_template_columns": null,
       "grid_template_rows": null,
       "height": null,
       "justify_content": null,
       "justify_items": null,
       "left": null,
       "margin": null,
       "max_height": null,
       "max_width": null,
       "min_height": null,
       "min_width": null,
       "object_fit": null,
       "object_position": null,
       "order": null,
       "overflow": null,
       "overflow_x": null,
       "overflow_y": null,
       "padding": null,
       "right": null,
       "top": null,
       "visibility": null,
       "width": null
      }
     },
     "c706d12a143041b5ba5b67e0aca55891": {
      "model_module": "@jupyter-widgets/controls",
      "model_module_version": "1.5.0",
      "model_name": "HTMLModel",
      "state": {
       "_dom_classes": [],
       "_model_module": "@jupyter-widgets/controls",
       "_model_module_version": "1.5.0",
       "_model_name": "HTMLModel",
       "_view_count": null,
       "_view_module": "@jupyter-widgets/controls",
       "_view_module_version": "1.5.0",
       "_view_name": "HTMLView",
       "description": "",
       "description_tooltip": null,
       "layout": "IPY_MODEL_77aaddc261a54fc3a231679a8208fa8a",
       "placeholder": "​",
       "style": "IPY_MODEL_10b1cb0e06ee4ed895a88ddb4784a1eb",
       "value": " 1.01G/1.01G [00:20&lt;00:00, 53.5MB/s]"
      }
     },
     "c92b95fdceec48e48618492405835085": {
      "model_module": "@jupyter-widgets/controls",
      "model_module_version": "1.5.0",
      "model_name": "FloatProgressModel",
      "state": {
       "_dom_classes": [],
       "_model_module": "@jupyter-widgets/controls",
       "_model_module_version": "1.5.0",
       "_model_name": "FloatProgressModel",
       "_view_count": null,
       "_view_module": "@jupyter-widgets/controls",
       "_view_module_version": "1.5.0",
       "_view_name": "ProgressView",
       "bar_style": "success",
       "description": "",
       "description_tooltip": null,
       "layout": "IPY_MODEL_ef6081d6fc1649adb62a3635c731e27a",
       "max": 29,
       "min": 0,
       "orientation": "horizontal",
       "style": "IPY_MODEL_d7130282315c40919573192898613cdc",
       "value": 29
      }
     },
     "ca7b66c73eee42f3a9eff50f95e288e4": {
      "model_module": "@jupyter-widgets/base",
      "model_module_version": "1.2.0",
      "model_name": "LayoutModel",
      "state": {
       "_model_module": "@jupyter-widgets/base",
       "_model_module_version": "1.2.0",
       "_model_name": "LayoutModel",
       "_view_count": null,
       "_view_module": "@jupyter-widgets/base",
       "_view_module_version": "1.2.0",
       "_view_name": "LayoutView",
       "align_content": null,
       "align_items": null,
       "align_self": null,
       "border": null,
       "bottom": null,
       "display": null,
       "flex": null,
       "flex_flow": null,
       "grid_area": null,
       "grid_auto_columns": null,
       "grid_auto_flow": null,
       "grid_auto_rows": null,
       "grid_column": null,
       "grid_gap": null,
       "grid_row": null,
       "grid_template_areas": null,
       "grid_template_columns": null,
       "grid_template_rows": null,
       "height": null,
       "justify_content": null,
       "justify_items": null,
       "left": null,
       "margin": null,
       "max_height": null,
       "max_width": null,
       "min_height": null,
       "min_width": null,
       "object_fit": null,
       "object_position": null,
       "order": null,
       "overflow": null,
       "overflow_x": null,
       "overflow_y": null,
       "padding": null,
       "right": null,
       "top": null,
       "visibility": null,
       "width": null
      }
     },
     "cf01ca37b0fc4110a08b525e2429e7be": {
      "model_module": "@jupyter-widgets/base",
      "model_module_version": "1.2.0",
      "model_name": "LayoutModel",
      "state": {
       "_model_module": "@jupyter-widgets/base",
       "_model_module_version": "1.2.0",
       "_model_name": "LayoutModel",
       "_view_count": null,
       "_view_module": "@jupyter-widgets/base",
       "_view_module_version": "1.2.0",
       "_view_name": "LayoutView",
       "align_content": null,
       "align_items": null,
       "align_self": null,
       "border": null,
       "bottom": null,
       "display": null,
       "flex": null,
       "flex_flow": null,
       "grid_area": null,
       "grid_auto_columns": null,
       "grid_auto_flow": null,
       "grid_auto_rows": null,
       "grid_column": null,
       "grid_gap": null,
       "grid_row": null,
       "grid_template_areas": null,
       "grid_template_columns": null,
       "grid_template_rows": null,
       "height": null,
       "justify_content": null,
       "justify_items": null,
       "left": null,
       "margin": null,
       "max_height": null,
       "max_width": null,
       "min_height": null,
       "min_width": null,
       "object_fit": null,
       "object_position": null,
       "order": null,
       "overflow": null,
       "overflow_x": null,
       "overflow_y": null,
       "padding": null,
       "right": null,
       "top": null,
       "visibility": null,
       "width": null
      }
     },
     "d1f80c518ef14b0b98af9fa87231b5db": {
      "model_module": "@jupyter-widgets/controls",
      "model_module_version": "1.5.0",
      "model_name": "DescriptionStyleModel",
      "state": {
       "_model_module": "@jupyter-widgets/controls",
       "_model_module_version": "1.5.0",
       "_model_name": "DescriptionStyleModel",
       "_view_count": null,
       "_view_module": "@jupyter-widgets/base",
       "_view_module_version": "1.2.0",
       "_view_name": "StyleView",
       "description_width": ""
      }
     },
     "d7130282315c40919573192898613cdc": {
      "model_module": "@jupyter-widgets/controls",
      "model_module_version": "1.5.0",
      "model_name": "ProgressStyleModel",
      "state": {
       "_model_module": "@jupyter-widgets/controls",
       "_model_module_version": "1.5.0",
       "_model_name": "ProgressStyleModel",
       "_view_count": null,
       "_view_module": "@jupyter-widgets/base",
       "_view_module_version": "1.2.0",
       "_view_name": "StyleView",
       "bar_color": null,
       "description_width": ""
      }
     },
     "d914c853c26c4684a346100664df75c3": {
      "model_module": "@jupyter-widgets/controls",
      "model_module_version": "1.5.0",
      "model_name": "HTMLModel",
      "state": {
       "_dom_classes": [],
       "_model_module": "@jupyter-widgets/controls",
       "_model_module_version": "1.5.0",
       "_model_name": "HTMLModel",
       "_view_count": null,
       "_view_module": "@jupyter-widgets/controls",
       "_view_module_version": "1.5.0",
       "_view_name": "HTMLView",
       "description": "",
       "description_tooltip": null,
       "layout": "IPY_MODEL_bcd814ef12ad4e4fa54a75e50164fda8",
       "placeholder": "​",
       "style": "IPY_MODEL_b54d6752fc884baeb5bd4b81c391d1a8",
       "value": " 29.0/29.0 [00:00&lt;00:00, 1.16kB/s]"
      }
     },
     "e9f6e478b5ad4df49bb15e95f5437584": {
      "model_module": "@jupyter-widgets/controls",
      "model_module_version": "1.5.0",
      "model_name": "FloatProgressModel",
      "state": {
       "_dom_classes": [],
       "_model_module": "@jupyter-widgets/controls",
       "_model_module_version": "1.5.0",
       "_model_name": "FloatProgressModel",
       "_view_count": null,
       "_view_module": "@jupyter-widgets/controls",
       "_view_module_version": "1.5.0",
       "_view_name": "ProgressView",
       "bar_style": "success",
       "description": "",
       "description_tooltip": null,
       "layout": "IPY_MODEL_0beea7a2f376456bb223ecfc93af1fcf",
       "max": 625,
       "min": 0,
       "orientation": "horizontal",
       "style": "IPY_MODEL_52b1e2023a7f4818becab72d7181f7f1",
       "value": 625
      }
     },
     "ee3084525cd44bc493977e1480485bbc": {
      "model_module": "@jupyter-widgets/controls",
      "model_module_version": "1.5.0",
      "model_name": "HTMLModel",
      "state": {
       "_dom_classes": [],
       "_model_module": "@jupyter-widgets/controls",
       "_model_module_version": "1.5.0",
       "_model_name": "HTMLModel",
       "_view_count": null,
       "_view_module": "@jupyter-widgets/controls",
       "_view_module_version": "1.5.0",
       "_view_name": "HTMLView",
       "description": "",
       "description_tooltip": null,
       "layout": "IPY_MODEL_f7b81aab1ecd4b5eb423af2d999486fc",
       "placeholder": "​",
       "style": "IPY_MODEL_6f6a06da9a9a4af78b1c2632aaa9911b",
       "value": "Downloading: 100%"
      }
     },
     "ef6081d6fc1649adb62a3635c731e27a": {
      "model_module": "@jupyter-widgets/base",
      "model_module_version": "1.2.0",
      "model_name": "LayoutModel",
      "state": {
       "_model_module": "@jupyter-widgets/base",
       "_model_module_version": "1.2.0",
       "_model_name": "LayoutModel",
       "_view_count": null,
       "_view_module": "@jupyter-widgets/base",
       "_view_module_version": "1.2.0",
       "_view_name": "LayoutView",
       "align_content": null,
       "align_items": null,
       "align_self": null,
       "border": null,
       "bottom": null,
       "display": null,
       "flex": null,
       "flex_flow": null,
       "grid_area": null,
       "grid_auto_columns": null,
       "grid_auto_flow": null,
       "grid_auto_rows": null,
       "grid_column": null,
       "grid_gap": null,
       "grid_row": null,
       "grid_template_areas": null,
       "grid_template_columns": null,
       "grid_template_rows": null,
       "height": null,
       "justify_content": null,
       "justify_items": null,
       "left": null,
       "margin": null,
       "max_height": null,
       "max_width": null,
       "min_height": null,
       "min_width": null,
       "object_fit": null,
       "object_position": null,
       "order": null,
       "overflow": null,
       "overflow_x": null,
       "overflow_y": null,
       "padding": null,
       "right": null,
       "top": null,
       "visibility": null,
       "width": null
      }
     },
     "f7b81aab1ecd4b5eb423af2d999486fc": {
      "model_module": "@jupyter-widgets/base",
      "model_module_version": "1.2.0",
      "model_name": "LayoutModel",
      "state": {
       "_model_module": "@jupyter-widgets/base",
       "_model_module_version": "1.2.0",
       "_model_name": "LayoutModel",
       "_view_count": null,
       "_view_module": "@jupyter-widgets/base",
       "_view_module_version": "1.2.0",
       "_view_name": "LayoutView",
       "align_content": null,
       "align_items": null,
       "align_self": null,
       "border": null,
       "bottom": null,
       "display": null,
       "flex": null,
       "flex_flow": null,
       "grid_area": null,
       "grid_auto_columns": null,
       "grid_auto_flow": null,
       "grid_auto_rows": null,
       "grid_column": null,
       "grid_gap": null,
       "grid_row": null,
       "grid_template_areas": null,
       "grid_template_columns": null,
       "grid_template_rows": null,
       "height": null,
       "justify_content": null,
       "justify_items": null,
       "left": null,
       "margin": null,
       "max_height": null,
       "max_width": null,
       "min_height": null,
       "min_width": null,
       "object_fit": null,
       "object_position": null,
       "order": null,
       "overflow": null,
       "overflow_x": null,
       "overflow_y": null,
       "padding": null,
       "right": null,
       "top": null,
       "visibility": null,
       "width": null
      }
     },
     "fab3bb6d59c54febad0e4fc420627cd6": {
      "model_module": "@jupyter-widgets/base",
      "model_module_version": "1.2.0",
      "model_name": "LayoutModel",
      "state": {
       "_model_module": "@jupyter-widgets/base",
       "_model_module_version": "1.2.0",
       "_model_name": "LayoutModel",
       "_view_count": null,
       "_view_module": "@jupyter-widgets/base",
       "_view_module_version": "1.2.0",
       "_view_name": "LayoutView",
       "align_content": null,
       "align_items": null,
       "align_self": null,
       "border": null,
       "bottom": null,
       "display": null,
       "flex": null,
       "flex_flow": null,
       "grid_area": null,
       "grid_auto_columns": null,
       "grid_auto_flow": null,
       "grid_auto_rows": null,
       "grid_column": null,
       "grid_gap": null,
       "grid_row": null,
       "grid_template_areas": null,
       "grid_template_columns": null,
       "grid_template_rows": null,
       "height": null,
       "justify_content": null,
       "justify_items": null,
       "left": null,
       "margin": null,
       "max_height": null,
       "max_width": null,
       "min_height": null,
       "min_width": null,
       "object_fit": null,
       "object_position": null,
       "order": null,
       "overflow": null,
       "overflow_x": null,
       "overflow_y": null,
       "padding": null,
       "right": null,
       "top": null,
       "visibility": null,
       "width": null
      }
     },
     "fb0bae798cba42098b51275164ead068": {
      "model_module": "@jupyter-widgets/controls",
      "model_module_version": "1.5.0",
      "model_name": "HBoxModel",
      "state": {
       "_dom_classes": [],
       "_model_module": "@jupyter-widgets/controls",
       "_model_module_version": "1.5.0",
       "_model_name": "HBoxModel",
       "_view_count": null,
       "_view_module": "@jupyter-widgets/controls",
       "_view_module_version": "1.5.0",
       "_view_name": "HBoxView",
       "box_style": "",
       "children": [
        "IPY_MODEL_a002e80099df4493a8a1a66f1ebcb6e1",
        "IPY_MODEL_e9f6e478b5ad4df49bb15e95f5437584",
        "IPY_MODEL_76cf3a7372664b89a3c894c137dfffb4"
       ],
       "layout": "IPY_MODEL_091087903ff04b2584c9ead1acd1080c"
      }
     }
    },
    "version_major": 2,
    "version_minor": 0
   }
  }
 },
 "nbformat": 4,
 "nbformat_minor": 5
}
